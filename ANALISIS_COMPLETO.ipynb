{
 "cells": [
  {
   "cell_type": "markdown",
   "id": "d9641ef1-59ee-4592-b0bf-515e9f95a9ca",
   "metadata": {
    "tags": []
   },
   "source": [
    "# ACTIVIDAD 2"
   ]
  },
  {
   "cell_type": "markdown",
   "id": "895448e0-56ff-4ca9-9206-0a16e8b950e1",
   "metadata": {
    "tags": []
   },
   "source": [
    "## GRUPO 2 - Carlos Gonzalez Van Liempt y Álvaro Farreny Boixader"
   ]
  },
  {
   "cell_type": "markdown",
   "id": "be877eda-64b5-40d0-b60b-cd1bd0eff25a",
   "metadata": {
    "jp-MarkdownHeadingCollapsed": true,
    "tags": []
   },
   "source": [
    "<h2 style=\"font-size: 19px;color:#6DA0FF;font-family:Georgia, Times, 'Times New Roman', serif;letter-spacing: 3px;font-weight: normal\">Twitter Web Scraping</h2>"
   ]
  },
  {
   "cell_type": "code",
   "execution_count": 3,
   "id": "f125a86c-14a4-492c-84cd-038cc928dc77",
   "metadata": {
    "tags": []
   },
   "outputs": [],
   "source": [
    "#pip install tweepy==4.12.0"
   ]
  },
  {
   "cell_type": "code",
   "execution_count": 4,
   "id": "e8debd51-469d-4e51-b395-8f4f4a60091e",
   "metadata": {
    "tags": []
   },
   "outputs": [
    {
     "data": {
      "text/plain": [
       "'pip install tweepy==3.10.0\\npip install tweepy==4.12.0'"
      ]
     },
     "execution_count": 4,
     "metadata": {},
     "output_type": "execute_result"
    }
   ],
   "source": [
    "\"\"\"pip install tweepy==3.10.0\n",
    "pip install tweepy==4.12.0\"\"\""
   ]
  },
  {
   "cell_type": "code",
   "execution_count": 102,
   "id": "d29f6009-95d2-4376-b061-20b55a045e87",
   "metadata": {
    "tags": []
   },
   "outputs": [],
   "source": [
    "try:\n",
    "    import tweepy\n",
    "except ModuleNotFoundError:\n",
    "    !pip install tweepy"
   ]
  },
  {
   "cell_type": "code",
   "execution_count": 104,
   "id": "4fec9dbc-72ac-45e8-865b-f937259920c7",
   "metadata": {
    "tags": []
   },
   "outputs": [
    {
     "data": {
      "text/plain": [
       "'pip install TextBlob'"
      ]
     },
     "execution_count": 104,
     "metadata": {},
     "output_type": "execute_result"
    }
   ],
   "source": [
    "\"pip install TextBlob\""
   ]
  },
  {
   "cell_type": "code",
   "execution_count": 105,
   "id": "5ec23c21-0571-474b-860d-094ba3aee938",
   "metadata": {},
   "outputs": [],
   "source": [
    "import matplotlib.pyplot as plt\n",
    "import pandas as pd\n",
    "from textblob import TextBlob\n",
    "import time\n",
    "import nltk"
   ]
  },
  {
   "cell_type": "markdown",
   "id": "3a0586a8-8c14-40c0-bc80-650eea30290e",
   "metadata": {},
   "source": [
    "BUSQUEDA DE LOS TWEETS QUE CONTENGAN BITCOIN"
   ]
  },
  {
   "cell_type": "code",
   "execution_count": 106,
   "id": "7f5d1cd1-b88a-4ef0-8e36-645e68509a44",
   "metadata": {
    "tags": []
   },
   "outputs": [
    {
     "data": {
      "text/html": [
       "<div>\n",
       "<style scoped>\n",
       "    .dataframe tbody tr th:only-of-type {\n",
       "        vertical-align: middle;\n",
       "    }\n",
       "\n",
       "    .dataframe tbody tr th {\n",
       "        vertical-align: top;\n",
       "    }\n",
       "\n",
       "    .dataframe thead th {\n",
       "        text-align: right;\n",
       "    }\n",
       "</style>\n",
       "<table border=\"1\" class=\"dataframe\">\n",
       "  <thead>\n",
       "    <tr style=\"text-align: right;\">\n",
       "      <th></th>\n",
       "      <th>Autor</th>\n",
       "      <th>Contenido</th>\n",
       "      <th>Analisis</th>\n",
       "    </tr>\n",
       "  </thead>\n",
       "  <tbody>\n",
       "    <tr>\n",
       "      <th>0</th>\n",
       "      <td>verrstin</td>\n",
       "      <td>SEC looks to intercept Grayscale Bitcoin ETF r...</td>\n",
       "      <td>Sentiment(polarity=-0.1, subjectivity=0.6)</td>\n",
       "    </tr>\n",
       "    <tr>\n",
       "      <th>1</th>\n",
       "      <td>LuHyA_HeAt</td>\n",
       "      <td>@Reuters Actually heard a great catch up with ...</td>\n",
       "      <td>Sentiment(polarity=0.15200000000000002, subjec...</td>\n",
       "    </tr>\n",
       "    <tr>\n",
       "      <th>2</th>\n",
       "      <td>chainparrot</td>\n",
       "      <td>Cumberland Favors Bitcoin Option Trades to Pro...</td>\n",
       "      <td>Sentiment(polarity=0.0, subjectivity=0.0)</td>\n",
       "    </tr>\n",
       "    <tr>\n",
       "      <th>3</th>\n",
       "      <td>neoncryptonet</td>\n",
       "      <td>Wyoming’s Senator bullish on Bitcoin despite m...</td>\n",
       "      <td>Sentiment(polarity=0.0, subjectivity=0.0)</td>\n",
       "    </tr>\n",
       "    <tr>\n",
       "      <th>4</th>\n",
       "      <td>chainparrot</td>\n",
       "      <td>SEC looks to intercept Grayscale Bitcoin ETF r...</td>\n",
       "      <td>Sentiment(polarity=-0.1, subjectivity=0.6)</td>\n",
       "    </tr>\n",
       "    <tr>\n",
       "      <th>5</th>\n",
       "      <td>JAYMEJOSEPH14</td>\n",
       "      <td>SEC looks to intercept Grayscale Bitcoin ETF r...</td>\n",
       "      <td>Sentiment(polarity=-0.1, subjectivity=0.6)</td>\n",
       "    </tr>\n",
       "    <tr>\n",
       "      <th>6</th>\n",
       "      <td>Roidadkhan56</td>\n",
       "      <td>SEC looks to intercept Grayscale Bitcoin ETF r...</td>\n",
       "      <td>Sentiment(polarity=-0.1, subjectivity=0.6)</td>\n",
       "    </tr>\n",
       "    <tr>\n",
       "      <th>7</th>\n",
       "      <td>Vasil15111974</td>\n",
       "      <td>@zetablockchain @Bitcoin @xdefi_wallet good</td>\n",
       "      <td>Sentiment(polarity=0.7, subjectivity=0.6000000...</td>\n",
       "    </tr>\n",
       "    <tr>\n",
       "      <th>8</th>\n",
       "      <td>Otelia82062019</td>\n",
       "      <td>@TKralow The more people wake up to the realit...</td>\n",
       "      <td>Sentiment(polarity=0.10486111111111111, subjec...</td>\n",
       "    </tr>\n",
       "    <tr>\n",
       "      <th>9</th>\n",
       "      <td>jdavis3830</td>\n",
       "      <td>@QTRResearch Why is Bitcoin up? Are they pulli...</td>\n",
       "      <td>Sentiment(polarity=0.024999999999999994, subje...</td>\n",
       "    </tr>\n",
       "    <tr>\n",
       "      <th>10</th>\n",
       "      <td>ShivaKumarREKT</td>\n",
       "      <td>Hi,take self-custody of your assets.I'm REKT b...</td>\n",
       "      <td>Sentiment(polarity=0.0, subjectivity=0.0)</td>\n",
       "    </tr>\n",
       "    <tr>\n",
       "      <th>11</th>\n",
       "      <td>legenddatabasc</td>\n",
       "      <td>@MacnBTC Binance wasn’t the first exchange \\nB...</td>\n",
       "      <td>Sentiment(polarity=-0.125, subjectivity=0.3166...</td>\n",
       "    </tr>\n",
       "    <tr>\n",
       "      <th>12</th>\n",
       "      <td>jesse06453454</td>\n",
       "      <td>Goodmorning to everyone except those who do no...</td>\n",
       "      <td>Sentiment(polarity=0.0, subjectivity=0.0)</td>\n",
       "    </tr>\n",
       "    <tr>\n",
       "      <th>13</th>\n",
       "      <td>SJerrifick</td>\n",
       "      <td>SEC looks to intercept Grayscale Bitcoin ETF r...</td>\n",
       "      <td>Sentiment(polarity=-0.1, subjectivity=0.6)</td>\n",
       "    </tr>\n",
       "    <tr>\n",
       "      <th>14</th>\n",
       "      <td>LuHyA_HeAt</td>\n",
       "      <td>@NjiuleM @Osama_otero @Honeyfarsafi @SakajaJoh...</td>\n",
       "      <td>Sentiment(polarity=0.15200000000000002, subjec...</td>\n",
       "    </tr>\n",
       "    <tr>\n",
       "      <th>15</th>\n",
       "      <td>TerryTheTipste1</td>\n",
       "      <td>Portugal\\nU23 Championship\\nSL BENFICA0.65\\nbe...</td>\n",
       "      <td>Sentiment(polarity=0.31212121212121213, subjec...</td>\n",
       "    </tr>\n",
       "    <tr>\n",
       "      <th>16</th>\n",
       "      <td>SuperheroCrypto</td>\n",
       "      <td>📢🚨 Breaking News! Bitcoin price may still drop...</td>\n",
       "      <td>Sentiment(polarity=0.0, subjectivity=0.0)</td>\n",
       "    </tr>\n",
       "    <tr>\n",
       "      <th>17</th>\n",
       "      <td>LegendaryAllen</td>\n",
       "      <td>@Numbrs It’s blockchain, not Bitcoin. You put ...</td>\n",
       "      <td>Sentiment(polarity=-0.4, subjectivity=0.6)</td>\n",
       "    </tr>\n",
       "    <tr>\n",
       "      <th>18</th>\n",
       "      <td>Champdogsnft</td>\n",
       "      <td>SEC looks to intercept Grayscale Bitcoin ETF r...</td>\n",
       "      <td>Sentiment(polarity=-0.1, subjectivity=0.6)</td>\n",
       "    </tr>\n",
       "    <tr>\n",
       "      <th>19</th>\n",
       "      <td>BurgerzSonava</td>\n",
       "      <td>SEC looks to intercept Grayscale Bitcoin ETF r...</td>\n",
       "      <td>Sentiment(polarity=-0.1, subjectivity=0.6)</td>\n",
       "    </tr>\n",
       "    <tr>\n",
       "      <th>20</th>\n",
       "      <td>LuHyA_HeAt</td>\n",
       "      <td>@citizentvkenya Actually heard a great catch u...</td>\n",
       "      <td>Sentiment(polarity=0.15200000000000002, subjec...</td>\n",
       "    </tr>\n",
       "    <tr>\n",
       "      <th>21</th>\n",
       "      <td>rogersy48357532</td>\n",
       "      <td>\"Buy Bitcoin today and think about it afterwar...</td>\n",
       "      <td>Sentiment(polarity=0.0, subjectivity=0.0)</td>\n",
       "    </tr>\n",
       "    <tr>\n",
       "      <th>22</th>\n",
       "      <td>rosen_erika</td>\n",
       "      <td>So what’s going to happen with #Binance? What’...</td>\n",
       "      <td>Sentiment(polarity=0.0, subjectivity=0.0)</td>\n",
       "    </tr>\n",
       "    <tr>\n",
       "      <th>23</th>\n",
       "      <td>cryptocharts</td>\n",
       "      <td>Thoughts on $BTC #Bitcoin! See saeed903's idea...</td>\n",
       "      <td>Sentiment(polarity=0.0, subjectivity=0.0)</td>\n",
       "    </tr>\n",
       "    <tr>\n",
       "      <th>24</th>\n",
       "      <td>21mFox</td>\n",
       "      <td>@Dieter75 @SpiritOfNakadai @elonmusk @RWMalone...</td>\n",
       "      <td>Sentiment(polarity=0.5, subjectivity=0.5)</td>\n",
       "    </tr>\n",
       "    <tr>\n",
       "      <th>25</th>\n",
       "      <td>yova</td>\n",
       "      <td>If you want to earn passive #Bitcoin every day...</td>\n",
       "      <td>Sentiment(polarity=0.0, subjectivity=0.0)</td>\n",
       "    </tr>\n",
       "    <tr>\n",
       "      <th>26</th>\n",
       "      <td>KellyVa26792535</td>\n",
       "      <td>SEC looks to intercept Grayscale Bitcoin ETF r...</td>\n",
       "      <td>Sentiment(polarity=-0.1, subjectivity=0.6)</td>\n",
       "    </tr>\n",
       "    <tr>\n",
       "      <th>27</th>\n",
       "      <td>LuHyA_HeAt</td>\n",
       "      <td>@Fact Actually heard a great catch up with Mr ...</td>\n",
       "      <td>Sentiment(polarity=0.15200000000000002, subjec...</td>\n",
       "    </tr>\n",
       "    <tr>\n",
       "      <th>28</th>\n",
       "      <td>Elicim1</td>\n",
       "      <td>This zesty faucet from @_bitcoiner is making m...</td>\n",
       "      <td>Sentiment(polarity=0.4, subjectivity=0.8)</td>\n",
       "    </tr>\n",
       "    <tr>\n",
       "      <th>29</th>\n",
       "      <td>VoxiLabNFT</td>\n",
       "      <td>VOXILAB NFT IS LAUNCHING ON 01-01-2023\\n.\\n.\\n...</td>\n",
       "      <td>Sentiment(polarity=0.0, subjectivity=0.0)</td>\n",
       "    </tr>\n",
       "    <tr>\n",
       "      <th>30</th>\n",
       "      <td>RP_Static</td>\n",
       "      <td>@TapTools Untill there is no proper utility wi...</td>\n",
       "      <td>Sentiment(polarity=0.2333333333333333, subject...</td>\n",
       "    </tr>\n",
       "    <tr>\n",
       "      <th>31</th>\n",
       "      <td>CoinPaymentsNET</td>\n",
       "      <td>The Big Tech in Fintech: How @Meta , @Apple , ...</td>\n",
       "      <td>Sentiment(polarity=0.18, subjectivity=0.325)</td>\n",
       "    </tr>\n",
       "    <tr>\n",
       "      <th>32</th>\n",
       "      <td>HarneyValfredo</td>\n",
       "      <td>CryptoBusy: We need to get $30,000 in the next...</td>\n",
       "      <td>Sentiment(polarity=0.0, subjectivity=0.0)</td>\n",
       "    </tr>\n",
       "    <tr>\n",
       "      <th>33</th>\n",
       "      <td>btcsentimentCOM</td>\n",
       "      <td>🐋 #Crypto Whales vs. #Stablecoins 💵\\n\\n🚨 Last ...</td>\n",
       "      <td>Sentiment(polarity=0.0, subjectivity=0.0666666...</td>\n",
       "    </tr>\n",
       "    <tr>\n",
       "      <th>34</th>\n",
       "      <td>BitSwings</td>\n",
       "      <td>[1h] #Bitcoin market is strongly trending up c...</td>\n",
       "      <td>Sentiment(polarity=0.3527777777777778, subject...</td>\n",
       "    </tr>\n",
       "    <tr>\n",
       "      <th>35</th>\n",
       "      <td>CarlBMenger</td>\n",
       "      <td>This is how the Fiat system breaks: All it tak...</td>\n",
       "      <td>Sentiment(polarity=0.0, subjectivity=0.0)</td>\n",
       "    </tr>\n",
       "    <tr>\n",
       "      <th>36</th>\n",
       "      <td>LuHyA_HeAt</td>\n",
       "      <td>@citizentvkenya @GladysShollei Actually heard ...</td>\n",
       "      <td>Sentiment(polarity=0.15200000000000002, subjec...</td>\n",
       "    </tr>\n",
       "    <tr>\n",
       "      <th>37</th>\n",
       "      <td>banti_mohanty</td>\n",
       "      <td>Done ✅ friends im supporting this @zahidul_b @...</td>\n",
       "      <td>Sentiment(polarity=0.25, subjectivity=0.25)</td>\n",
       "    </tr>\n",
       "    <tr>\n",
       "      <th>38</th>\n",
       "      <td>TansainK</td>\n",
       "      <td>SEC looks to intercept Grayscale Bitcoin ETF r...</td>\n",
       "      <td>Sentiment(polarity=-0.1, subjectivity=0.6)</td>\n",
       "    </tr>\n",
       "    <tr>\n",
       "      <th>39</th>\n",
       "      <td>LuHyA_HeAt</td>\n",
       "      <td>@Osama_otero Actually heard a great catch up w...</td>\n",
       "      <td>Sentiment(polarity=0.15200000000000002, subjec...</td>\n",
       "    </tr>\n",
       "    <tr>\n",
       "      <th>40</th>\n",
       "      <td>Otelia82062019</td>\n",
       "      <td>@CryptoCoinCoach @justinsuntron The more peopl...</td>\n",
       "      <td>Sentiment(polarity=0.10486111111111111, subjec...</td>\n",
       "    </tr>\n",
       "    <tr>\n",
       "      <th>41</th>\n",
       "      <td>bnbstrategy</td>\n",
       "      <td>Intra-day 1-minute bar support/resistence for ...</td>\n",
       "      <td>Sentiment(polarity=0.4, subjectivity=0.4)</td>\n",
       "    </tr>\n",
       "    <tr>\n",
       "      <th>42</th>\n",
       "      <td>ALVARADOCLEMEN3</td>\n",
       "      <td>My first Temu experience was on Black Friday, ...</td>\n",
       "      <td>Sentiment(polarity=0.27083333333333337, subjec...</td>\n",
       "    </tr>\n",
       "    <tr>\n",
       "      <th>43</th>\n",
       "      <td>elidazbdgg</td>\n",
       "      <td>I'm playing #lnbingo! This card is for draw 76...</td>\n",
       "      <td>Sentiment(polarity=0.0, subjectivity=0.0)</td>\n",
       "    </tr>\n",
       "    <tr>\n",
       "      <th>44</th>\n",
       "      <td>XavierNevada1</td>\n",
       "      <td>Drop Your Metamask Wallet Address In The Comme...</td>\n",
       "      <td>Sentiment(polarity=0.4, subjectivity=0.8)</td>\n",
       "    </tr>\n",
       "    <tr>\n",
       "      <th>45</th>\n",
       "      <td>LuHyA_HeAt</td>\n",
       "      <td>@KBonimtetezi Actually heard a great catch up ...</td>\n",
       "      <td>Sentiment(polarity=0.15200000000000002, subjec...</td>\n",
       "    </tr>\n",
       "    <tr>\n",
       "      <th>46</th>\n",
       "      <td>yourcryptolife</td>\n",
       "      <td>1 BTC equals 17166.3906 USD. #bitcoin #btc</td>\n",
       "      <td>Sentiment(polarity=0.0, subjectivity=0.0)</td>\n",
       "    </tr>\n",
       "    <tr>\n",
       "      <th>47</th>\n",
       "      <td>Reuters</td>\n",
       "      <td>Cryptoverse: Jump or slump? $30k or $5k? Play ...</td>\n",
       "      <td>Sentiment(polarity=0.0, subjectivity=0.0)</td>\n",
       "    </tr>\n",
       "    <tr>\n",
       "      <th>48</th>\n",
       "      <td>FredIvers</td>\n",
       "      <td>Separate money and state #bitcoin https://t.co...</td>\n",
       "      <td>Sentiment(polarity=0.0, subjectivity=0.0)</td>\n",
       "    </tr>\n",
       "    <tr>\n",
       "      <th>49</th>\n",
       "      <td>Eht10C</td>\n",
       "      <td>🚀💸 Tue, 13 Dec 2022 11:00:36 GMT - TOP 10 - $B...</td>\n",
       "      <td>Sentiment(polarity=0.5, subjectivity=0.5)</td>\n",
       "    </tr>\n",
       "  </tbody>\n",
       "</table>\n",
       "</div>"
      ],
      "text/plain": [
       "              Autor                                          Contenido  \\\n",
       "0          verrstin  SEC looks to intercept Grayscale Bitcoin ETF r...   \n",
       "1        LuHyA_HeAt  @Reuters Actually heard a great catch up with ...   \n",
       "2       chainparrot  Cumberland Favors Bitcoin Option Trades to Pro...   \n",
       "3     neoncryptonet  Wyoming’s Senator bullish on Bitcoin despite m...   \n",
       "4       chainparrot  SEC looks to intercept Grayscale Bitcoin ETF r...   \n",
       "5     JAYMEJOSEPH14  SEC looks to intercept Grayscale Bitcoin ETF r...   \n",
       "6      Roidadkhan56  SEC looks to intercept Grayscale Bitcoin ETF r...   \n",
       "7     Vasil15111974        @zetablockchain @Bitcoin @xdefi_wallet good   \n",
       "8    Otelia82062019  @TKralow The more people wake up to the realit...   \n",
       "9        jdavis3830  @QTRResearch Why is Bitcoin up? Are they pulli...   \n",
       "10   ShivaKumarREKT  Hi,take self-custody of your assets.I'm REKT b...   \n",
       "11   legenddatabasc  @MacnBTC Binance wasn’t the first exchange \\nB...   \n",
       "12    jesse06453454  Goodmorning to everyone except those who do no...   \n",
       "13       SJerrifick  SEC looks to intercept Grayscale Bitcoin ETF r...   \n",
       "14       LuHyA_HeAt  @NjiuleM @Osama_otero @Honeyfarsafi @SakajaJoh...   \n",
       "15  TerryTheTipste1  Portugal\\nU23 Championship\\nSL BENFICA0.65\\nbe...   \n",
       "16  SuperheroCrypto  📢🚨 Breaking News! Bitcoin price may still drop...   \n",
       "17   LegendaryAllen  @Numbrs It’s blockchain, not Bitcoin. You put ...   \n",
       "18     Champdogsnft  SEC looks to intercept Grayscale Bitcoin ETF r...   \n",
       "19    BurgerzSonava  SEC looks to intercept Grayscale Bitcoin ETF r...   \n",
       "20       LuHyA_HeAt  @citizentvkenya Actually heard a great catch u...   \n",
       "21  rogersy48357532  \"Buy Bitcoin today and think about it afterwar...   \n",
       "22      rosen_erika  So what’s going to happen with #Binance? What’...   \n",
       "23     cryptocharts  Thoughts on $BTC #Bitcoin! See saeed903's idea...   \n",
       "24           21mFox  @Dieter75 @SpiritOfNakadai @elonmusk @RWMalone...   \n",
       "25             yova  If you want to earn passive #Bitcoin every day...   \n",
       "26  KellyVa26792535  SEC looks to intercept Grayscale Bitcoin ETF r...   \n",
       "27       LuHyA_HeAt  @Fact Actually heard a great catch up with Mr ...   \n",
       "28          Elicim1  This zesty faucet from @_bitcoiner is making m...   \n",
       "29       VoxiLabNFT  VOXILAB NFT IS LAUNCHING ON 01-01-2023\\n.\\n.\\n...   \n",
       "30        RP_Static  @TapTools Untill there is no proper utility wi...   \n",
       "31  CoinPaymentsNET  The Big Tech in Fintech: How @Meta , @Apple , ...   \n",
       "32   HarneyValfredo  CryptoBusy: We need to get $30,000 in the next...   \n",
       "33  btcsentimentCOM  🐋 #Crypto Whales vs. #Stablecoins 💵\\n\\n🚨 Last ...   \n",
       "34        BitSwings  [1h] #Bitcoin market is strongly trending up c...   \n",
       "35      CarlBMenger  This is how the Fiat system breaks: All it tak...   \n",
       "36       LuHyA_HeAt  @citizentvkenya @GladysShollei Actually heard ...   \n",
       "37    banti_mohanty  Done ✅ friends im supporting this @zahidul_b @...   \n",
       "38         TansainK  SEC looks to intercept Grayscale Bitcoin ETF r...   \n",
       "39       LuHyA_HeAt  @Osama_otero Actually heard a great catch up w...   \n",
       "40   Otelia82062019  @CryptoCoinCoach @justinsuntron The more peopl...   \n",
       "41      bnbstrategy  Intra-day 1-minute bar support/resistence for ...   \n",
       "42  ALVARADOCLEMEN3  My first Temu experience was on Black Friday, ...   \n",
       "43       elidazbdgg  I'm playing #lnbingo! This card is for draw 76...   \n",
       "44    XavierNevada1  Drop Your Metamask Wallet Address In The Comme...   \n",
       "45       LuHyA_HeAt  @KBonimtetezi Actually heard a great catch up ...   \n",
       "46   yourcryptolife         1 BTC equals 17166.3906 USD. #bitcoin #btc   \n",
       "47          Reuters  Cryptoverse: Jump or slump? $30k or $5k? Play ...   \n",
       "48        FredIvers  Separate money and state #bitcoin https://t.co...   \n",
       "49           Eht10C  🚀💸 Tue, 13 Dec 2022 11:00:36 GMT - TOP 10 - $B...   \n",
       "\n",
       "                                             Analisis  \n",
       "0          Sentiment(polarity=-0.1, subjectivity=0.6)  \n",
       "1   Sentiment(polarity=0.15200000000000002, subjec...  \n",
       "2           Sentiment(polarity=0.0, subjectivity=0.0)  \n",
       "3           Sentiment(polarity=0.0, subjectivity=0.0)  \n",
       "4          Sentiment(polarity=-0.1, subjectivity=0.6)  \n",
       "5          Sentiment(polarity=-0.1, subjectivity=0.6)  \n",
       "6          Sentiment(polarity=-0.1, subjectivity=0.6)  \n",
       "7   Sentiment(polarity=0.7, subjectivity=0.6000000...  \n",
       "8   Sentiment(polarity=0.10486111111111111, subjec...  \n",
       "9   Sentiment(polarity=0.024999999999999994, subje...  \n",
       "10          Sentiment(polarity=0.0, subjectivity=0.0)  \n",
       "11  Sentiment(polarity=-0.125, subjectivity=0.3166...  \n",
       "12          Sentiment(polarity=0.0, subjectivity=0.0)  \n",
       "13         Sentiment(polarity=-0.1, subjectivity=0.6)  \n",
       "14  Sentiment(polarity=0.15200000000000002, subjec...  \n",
       "15  Sentiment(polarity=0.31212121212121213, subjec...  \n",
       "16          Sentiment(polarity=0.0, subjectivity=0.0)  \n",
       "17         Sentiment(polarity=-0.4, subjectivity=0.6)  \n",
       "18         Sentiment(polarity=-0.1, subjectivity=0.6)  \n",
       "19         Sentiment(polarity=-0.1, subjectivity=0.6)  \n",
       "20  Sentiment(polarity=0.15200000000000002, subjec...  \n",
       "21          Sentiment(polarity=0.0, subjectivity=0.0)  \n",
       "22          Sentiment(polarity=0.0, subjectivity=0.0)  \n",
       "23          Sentiment(polarity=0.0, subjectivity=0.0)  \n",
       "24          Sentiment(polarity=0.5, subjectivity=0.5)  \n",
       "25          Sentiment(polarity=0.0, subjectivity=0.0)  \n",
       "26         Sentiment(polarity=-0.1, subjectivity=0.6)  \n",
       "27  Sentiment(polarity=0.15200000000000002, subjec...  \n",
       "28          Sentiment(polarity=0.4, subjectivity=0.8)  \n",
       "29          Sentiment(polarity=0.0, subjectivity=0.0)  \n",
       "30  Sentiment(polarity=0.2333333333333333, subject...  \n",
       "31       Sentiment(polarity=0.18, subjectivity=0.325)  \n",
       "32          Sentiment(polarity=0.0, subjectivity=0.0)  \n",
       "33  Sentiment(polarity=0.0, subjectivity=0.0666666...  \n",
       "34  Sentiment(polarity=0.3527777777777778, subject...  \n",
       "35          Sentiment(polarity=0.0, subjectivity=0.0)  \n",
       "36  Sentiment(polarity=0.15200000000000002, subjec...  \n",
       "37        Sentiment(polarity=0.25, subjectivity=0.25)  \n",
       "38         Sentiment(polarity=-0.1, subjectivity=0.6)  \n",
       "39  Sentiment(polarity=0.15200000000000002, subjec...  \n",
       "40  Sentiment(polarity=0.10486111111111111, subjec...  \n",
       "41          Sentiment(polarity=0.4, subjectivity=0.4)  \n",
       "42  Sentiment(polarity=0.27083333333333337, subjec...  \n",
       "43          Sentiment(polarity=0.0, subjectivity=0.0)  \n",
       "44          Sentiment(polarity=0.4, subjectivity=0.8)  \n",
       "45  Sentiment(polarity=0.15200000000000002, subjec...  \n",
       "46          Sentiment(polarity=0.0, subjectivity=0.0)  \n",
       "47          Sentiment(polarity=0.0, subjectivity=0.0)  \n",
       "48          Sentiment(polarity=0.0, subjectivity=0.0)  \n",
       "49          Sentiment(polarity=0.5, subjectivity=0.5)  "
      ]
     },
     "execution_count": 106,
     "metadata": {},
     "output_type": "execute_result"
    }
   ],
   "source": [
    "df = pd.DataFrame(columns=['Autor', 'Contenido', 'Analisis'])\n",
    "\n",
    "client = tweepy.Client(bearer_token=\"AAAAAAAAAAAAAAAAAAAAAIV9iAEAAAAABkMM0c9J7Qe1jgFj%2BbtdW4C9vkw%3DSaUUIEGcbOwfPRgWoDKJ6BP6RAJ7wOzpT7SuEskgByo3EWLB3d\") # Utilizamos el token Bearer para autentificarnos en twitter\n",
    "\n",
    "#INFORMACIÓN SOBRE LOS VALORES QUE SE LE PUEDEN DAR A LA QUERY!!\n",
    "# https://developer.twitter.com/en/docs/twitter-api/tweets/search/api-reference/get-tweets-search-all\n",
    "\n",
    "query = \"Bitcoin -is:retweet lang:en\" # Introducimos con que mensajes queremos que filtre, junto con la condición de que no debe ser un retweet y el idioma debe ser en español\n",
    "response = client.search_recent_tweets(query=query, max_results=50, tweet_fields=[\"lang\"], expansions=[\"author_id\"]) # realizamos la query con un límite de 20 tweets ( se puede modificar )\n",
    "\n",
    "users = {u[\"id\"]: u for u in response.includes[\"users\"]} # Relacionamos el id de usuario con el nombre de usuario para crear una lista de usuarios con la que trabajar\n",
    "\n",
    "for tweet in response.data:  \n",
    "    if users[tweet.author_id]:\n",
    "        # Crear un objeto de TextBlob con el texto del tweet\n",
    "        twt = TextBlob(str(tweet))\n",
    "        user = users[tweet.author_id]\n",
    "        df = df.append({'Autor':user.username,'Contenido':str(tweet), 'Analisis':str(twt.sentiment)},ignore_index=True) # Introducimos los valores en el dataframe\n",
    "#PRINTEAMOS EL DATAFRAME\n",
    "df"
   ]
  },
  {
   "cell_type": "markdown",
   "id": "91b3ba1b-034c-41a0-a306-20402853356e",
   "metadata": {},
   "source": [
    "FUNCIONAMIENTO DE LA LIBRERIA TEXTBLOB"
   ]
  },
  {
   "cell_type": "markdown",
   "id": "47a93d21-fcb6-4a59-aa2e-f0a3fa21bfe1",
   "metadata": {
    "tags": []
   },
   "source": [
    "Sentiment(polarity=0.625, subjectivity=0.6) es el resultado que devuelve el método sentiment de la librería TextBlob cuando se le aplica a un texto determinado.\n",
    "\n",
    "La polaridad es un valor que indica el estado de ánimo o la opinión expresada en un texto, y va de -1 a 1, siendo -1 una opinión muy negativa, 0 una opinión neutral, y 1 una opinión muy positiva. Por otro lado, la subjetividad es un valor que indica el grado de subjetividad o objetividad del texto, y también va de 0 a 1, siendo 0 un texto muy objetivo y 1 un texto muy subjetivo.\n",
    "\n",
    "En el ejemplo Sentiment(polarity=0.625, subjectivity=0.6), se puede observar que la polaridad es 0.625, lo que indica que el texto tiene una opinión positiva, pero no muy fuerte. Por otro lado, la subjetividad"
   ]
  },
  {
   "cell_type": "code",
   "execution_count": 107,
   "id": "7c2b92fc-ac4c-4f65-b825-eda1cf814720",
   "metadata": {
    "tags": []
   },
   "outputs": [
    {
     "name": "stdout",
     "output_type": "stream",
     "text": [
      "Sentiment(polarity=0.45535714285714285, subjectivity=0.5678571428571428)\n"
     ]
    }
   ],
   "source": [
    "# Importar la librería necesaria\n",
    "from textblob import TextBlob\n",
    "\n",
    "# Crear un objeto de TextBlob con el texto del tweet\n",
    "tweet = TextBlob(\"I love Bitcoin! I'm gonna buy right now\")\n",
    "\n",
    "# Mostrar el resultado del análisis de sentimientos\n",
    "print(tweet.sentiment)"
   ]
  },
  {
   "cell_type": "markdown",
   "id": "9fae2e33-9551-4e2e-8ed2-67cc13a4736c",
   "metadata": {},
   "source": [
    "### ANALISIS DE LOS SENTIMIENTOS OBTENIDOS ANTERIORMENTE "
   ]
  },
  {
   "cell_type": "code",
   "execution_count": 108,
   "id": "6497d241-35b4-4222-ac7b-ed9ae69f0324",
   "metadata": {},
   "outputs": [
    {
     "data": {
      "image/png": "[encoded data removed]",
      "text/plain": [
       "<Figure size 432x288 with 1 Axes>"
      ]
     },
     "metadata": {
      "needs_background": "light"
     },
     "output_type": "display_data"
    }
   ],
   "source": [
    "# Inicializar variables para contar la cantidad de tweets por sentimiento\n",
    "pos_tweets = 0\n",
    "neg_tweets = 0\n",
    "neu_tweets = 0\n",
    "\n",
    "for tweet in response.data:  \n",
    "    if users[tweet.author_id]:\n",
    "        analysis = TextBlob(str(tweet))\n",
    "        # Incrementar la cantidad de tweets con sentimiento positivo, negativo o neutral\n",
    "        if analysis.sentiment.polarity > 0:\n",
    "            pos_tweets += 1\n",
    "        elif analysis.sentiment.polarity < 0:\n",
    "            neg_tweets += 1\n",
    "        else:\n",
    "            neu_tweets += 1\n",
    "\n",
    "# Crear un gráfico de barras con los resultados obtenidos\n",
    "plt.bar([\"Positivos\", \"Negativos\", \"Neutrales\"], [pos_tweets, neg_tweets, neu_tweets])\n",
    "plt.title(\"Sentimientos en tweets sobre Bitcoin\")\n",
    "plt.show()"
   ]
  },
  {
   "cell_type": "markdown",
   "id": "bc59e1cd-b3fc-4e07-b2cc-750e8fe062ef",
   "metadata": {},
   "source": [
    "OTRA FORMA DE ANALISIS"
   ]
  },
  {
   "cell_type": "code",
   "execution_count": 109,
   "id": "41da86f6-24a5-406a-a38d-90b7c5fe6b59",
   "metadata": {},
   "outputs": [],
   "source": [
    "# Inicializar una lista para almacenar los sentimientos en el tiempo\n",
    "sentiments = []"
   ]
  },
  {
   "cell_type": "code",
   "execution_count": 110,
   "id": "f3a95fa2-c237-4283-8a39-d4f9caf4ef25",
   "metadata": {},
   "outputs": [
    {
     "data": {
      "image/png": "[encoded data removed]",
      "text/plain": [
       "<Figure size 432x288 with 1 Axes>"
      ]
     },
     "metadata": {
      "needs_background": "light"
     },
     "output_type": "display_data"
    }
   ],
   "source": [
    "for tweet in response.data:  \n",
    "    if users[tweet.author_id]:\n",
    "        analysis = TextBlob(str(tweet))\n",
    "        # Añadir el sentimiento del tweet a la lista\n",
    "        sentiments.append(analysis.sentiment.polarity)\n",
    "        \n",
    "# Crear un gráfico de líneas con los resultados obtenidos\n",
    "plt.plot(sentiments)\n",
    "plt.title(\"Sentimientos en tweets sobre Bitcoin\")\n",
    "plt.show()"
   ]
  },
  {
   "cell_type": "markdown",
   "id": "3ec32311-312e-4fe5-ac0a-fae9971b8343",
   "metadata": {
    "tags": []
   },
   "source": [
    "<h2 style=\"font-size: 19px;color:#6DA0FF;font-family:Georgia, Times, 'Times New Roman', serif;letter-spacing: 3px;font-weight: normal\">CSV Tweet Scraping</h2>"
   ]
  },
  {
   "cell_type": "markdown",
   "id": "0f0100c2-2982-4bff-b3b2-f8f3647fa137",
   "metadata": {},
   "source": [
    "##### Utilizamos Pandas para cargar los datos del archivo .csv que hemos obtenido de kaggle\n",
    "https://www.kaggle.com/datasets/alaix14/bitcoin-tweets-20160101-to-20190329"
   ]
  },
  {
   "cell_type": "code",
   "execution_count": 31,
   "id": "18fc6481-1782-42dd-9784-0df33b67c05c",
   "metadata": {},
   "outputs": [],
   "source": [
    "import matplotlib.pyplot as plt\n",
    "import pandas as pd\n",
    "from textblob import TextBlob\n",
    "import time\n",
    "import nltk"
   ]
  },
  {
   "cell_type": "code",
   "execution_count": 32,
   "id": "01b5e614-b542-44b3-85f1-9715a11aa424",
   "metadata": {},
   "outputs": [],
   "source": [
    "from nltk.sentiment.vader import SentimentIntensityAnalyzer"
   ]
  },
  {
   "cell_type": "code",
   "execution_count": 33,
   "id": "8ff23b94-cf0b-49de-9956-88ee3328545d",
   "metadata": {},
   "outputs": [
    {
     "data": {
      "text/html": [
       "<div>\n",
       "<style scoped>\n",
       "    .dataframe tbody tr th:only-of-type {\n",
       "        vertical-align: middle;\n",
       "    }\n",
       "\n",
       "    .dataframe tbody tr th {\n",
       "        vertical-align: top;\n",
       "    }\n",
       "\n",
       "    .dataframe thead th {\n",
       "        text-align: right;\n",
       "    }\n",
       "</style>\n",
       "<table border=\"1\" class=\"dataframe\">\n",
       "  <thead>\n",
       "    <tr style=\"text-align: right;\">\n",
       "      <th></th>\n",
       "      <th>timestamp</th>\n",
       "      <th>text</th>\n",
       "    </tr>\n",
       "  </thead>\n",
       "  <tbody>\n",
       "    <tr>\n",
       "      <th>0</th>\n",
       "      <td>2019-05-27 11:49:14+00</td>\n",
       "      <td>È appena uscito un nuovo video! LES CRYPTOMONN...</td>\n",
       "    </tr>\n",
       "    <tr>\n",
       "      <th>1</th>\n",
       "      <td>2019-05-27 11:49:18+00</td>\n",
       "      <td>Cardano: Digitize Currencies; EOS https://t.co...</td>\n",
       "    </tr>\n",
       "    <tr>\n",
       "      <th>2</th>\n",
       "      <td>2019-05-27 11:49:06+00</td>\n",
       "      <td>Another Test tweet that wasn't caught in the s...</td>\n",
       "    </tr>\n",
       "    <tr>\n",
       "      <th>3</th>\n",
       "      <td>2019-05-27 11:49:22+00</td>\n",
       "      <td>Current Crypto Prices! \\n\\nBTC: $8721.99 USD\\n...</td>\n",
       "    </tr>\n",
       "    <tr>\n",
       "      <th>4</th>\n",
       "      <td>2019-05-27 11:49:23+00</td>\n",
       "      <td>Spiv (Nosar Baz): BITCOIN Is An Asset &amp;amp; NO...</td>\n",
       "    </tr>\n",
       "  </tbody>\n",
       "</table>\n",
       "</div>"
      ],
      "text/plain": [
       "                timestamp                                               text\n",
       "0  2019-05-27 11:49:14+00  È appena uscito un nuovo video! LES CRYPTOMONN...\n",
       "1  2019-05-27 11:49:18+00  Cardano: Digitize Currencies; EOS https://t.co...\n",
       "2  2019-05-27 11:49:06+00  Another Test tweet that wasn't caught in the s...\n",
       "3  2019-05-27 11:49:22+00  Current Crypto Prices! \\n\\nBTC: $8721.99 USD\\n...\n",
       "4  2019-05-27 11:49:23+00  Spiv (Nosar Baz): BITCOIN Is An Asset &amp; NO..."
      ]
     },
     "execution_count": 33,
     "metadata": {},
     "output_type": "execute_result"
    }
   ],
   "source": [
    "df = pd.read_csv('./data/tweetsKaggle.csv',sep=';', nrows=1000000, usecols=['timestamp','text'])\n",
    "df.head()"
   ]
  },
  {
   "cell_type": "code",
   "execution_count": 34,
   "id": "b3a46b0c-0804-4857-92b7-4142606d1ab1",
   "metadata": {},
   "outputs": [
    {
     "data": {
      "text/html": [
       "<div>\n",
       "<style scoped>\n",
       "    .dataframe tbody tr th:only-of-type {\n",
       "        vertical-align: middle;\n",
       "    }\n",
       "\n",
       "    .dataframe tbody tr th {\n",
       "        vertical-align: top;\n",
       "    }\n",
       "\n",
       "    .dataframe thead th {\n",
       "        text-align: right;\n",
       "    }\n",
       "</style>\n",
       "<table border=\"1\" class=\"dataframe\">\n",
       "  <thead>\n",
       "    <tr style=\"text-align: right;\">\n",
       "      <th></th>\n",
       "      <th>timestamp</th>\n",
       "      <th>text</th>\n",
       "      <th>Date</th>\n",
       "      <th>Time</th>\n",
       "    </tr>\n",
       "  </thead>\n",
       "  <tbody>\n",
       "    <tr>\n",
       "      <th>0</th>\n",
       "      <td>2019-05-27 11:49:14+00</td>\n",
       "      <td>È appena uscito un nuovo video! LES CRYPTOMONN...</td>\n",
       "      <td>2019-05-27</td>\n",
       "      <td>11:49:14+00</td>\n",
       "    </tr>\n",
       "    <tr>\n",
       "      <th>1</th>\n",
       "      <td>2019-05-27 11:49:18+00</td>\n",
       "      <td>Cardano: Digitize Currencies; EOS https://t.co...</td>\n",
       "      <td>2019-05-27</td>\n",
       "      <td>11:49:18+00</td>\n",
       "    </tr>\n",
       "    <tr>\n",
       "      <th>2</th>\n",
       "      <td>2019-05-27 11:49:06+00</td>\n",
       "      <td>Another Test tweet that wasn't caught in the s...</td>\n",
       "      <td>2019-05-27</td>\n",
       "      <td>11:49:06+00</td>\n",
       "    </tr>\n",
       "    <tr>\n",
       "      <th>3</th>\n",
       "      <td>2019-05-27 11:49:22+00</td>\n",
       "      <td>Current Crypto Prices! \\n\\nBTC: $8721.99 USD\\n...</td>\n",
       "      <td>2019-05-27</td>\n",
       "      <td>11:49:22+00</td>\n",
       "    </tr>\n",
       "    <tr>\n",
       "      <th>4</th>\n",
       "      <td>2019-05-27 11:49:23+00</td>\n",
       "      <td>Spiv (Nosar Baz): BITCOIN Is An Asset &amp;amp; NO...</td>\n",
       "      <td>2019-05-27</td>\n",
       "      <td>11:49:23+00</td>\n",
       "    </tr>\n",
       "  </tbody>\n",
       "</table>\n",
       "</div>"
      ],
      "text/plain": [
       "                timestamp                                               text  \\\n",
       "0  2019-05-27 11:49:14+00  È appena uscito un nuovo video! LES CRYPTOMONN...   \n",
       "1  2019-05-27 11:49:18+00  Cardano: Digitize Currencies; EOS https://t.co...   \n",
       "2  2019-05-27 11:49:06+00  Another Test tweet that wasn't caught in the s...   \n",
       "3  2019-05-27 11:49:22+00  Current Crypto Prices! \\n\\nBTC: $8721.99 USD\\n...   \n",
       "4  2019-05-27 11:49:23+00  Spiv (Nosar Baz): BITCOIN Is An Asset &amp; NO...   \n",
       "\n",
       "         Date         Time  \n",
       "0  2019-05-27  11:49:14+00  \n",
       "1  2019-05-27  11:49:18+00  \n",
       "2  2019-05-27  11:49:06+00  \n",
       "3  2019-05-27  11:49:22+00  \n",
       "4  2019-05-27  11:49:23+00  "
      ]
     },
     "execution_count": 34,
     "metadata": {},
     "output_type": "execute_result"
    }
   ],
   "source": [
    "df[['Date','Time']] = df.timestamp.str.split(expand=True)\n",
    "df.head()"
   ]
  },
  {
   "cell_type": "code",
   "execution_count": 35,
   "id": "a6038e68-3241-417a-b969-45a26d38cd46",
   "metadata": {},
   "outputs": [
    {
     "data": {
      "text/html": [
       "<div>\n",
       "<style scoped>\n",
       "    .dataframe tbody tr th:only-of-type {\n",
       "        vertical-align: middle;\n",
       "    }\n",
       "\n",
       "    .dataframe tbody tr th {\n",
       "        vertical-align: top;\n",
       "    }\n",
       "\n",
       "    .dataframe thead th {\n",
       "        text-align: right;\n",
       "    }\n",
       "</style>\n",
       "<table border=\"1\" class=\"dataframe\">\n",
       "  <thead>\n",
       "    <tr style=\"text-align: right;\">\n",
       "      <th></th>\n",
       "      <th>Date</th>\n",
       "      <th>text</th>\n",
       "    </tr>\n",
       "  </thead>\n",
       "  <tbody>\n",
       "    <tr>\n",
       "      <th>0</th>\n",
       "      <td>2019-05-27</td>\n",
       "      <td>È appena uscito un nuovo video! LES CRYPTOMONN...</td>\n",
       "    </tr>\n",
       "    <tr>\n",
       "      <th>1</th>\n",
       "      <td>2019-05-27</td>\n",
       "      <td>Cardano: Digitize Currencies; EOS https://t.co...</td>\n",
       "    </tr>\n",
       "    <tr>\n",
       "      <th>2</th>\n",
       "      <td>2019-05-27</td>\n",
       "      <td>Another Test tweet that wasn't caught in the s...</td>\n",
       "    </tr>\n",
       "    <tr>\n",
       "      <th>3</th>\n",
       "      <td>2019-05-27</td>\n",
       "      <td>Current Crypto Prices! \\n\\nBTC: $8721.99 USD\\n...</td>\n",
       "    </tr>\n",
       "    <tr>\n",
       "      <th>4</th>\n",
       "      <td>2019-05-27</td>\n",
       "      <td>Spiv (Nosar Baz): BITCOIN Is An Asset &amp;amp; NO...</td>\n",
       "    </tr>\n",
       "  </tbody>\n",
       "</table>\n",
       "</div>"
      ],
      "text/plain": [
       "         Date                                               text\n",
       "0  2019-05-27  È appena uscito un nuovo video! LES CRYPTOMONN...\n",
       "1  2019-05-27  Cardano: Digitize Currencies; EOS https://t.co...\n",
       "2  2019-05-27  Another Test tweet that wasn't caught in the s...\n",
       "3  2019-05-27  Current Crypto Prices! \\n\\nBTC: $8721.99 USD\\n...\n",
       "4  2019-05-27  Spiv (Nosar Baz): BITCOIN Is An Asset &amp; NO..."
      ]
     },
     "execution_count": 35,
     "metadata": {},
     "output_type": "execute_result"
    }
   ],
   "source": [
    "df=df[['Date','text']]\n",
    "df.head()"
   ]
  },
  {
   "cell_type": "code",
   "execution_count": 36,
   "id": "2186be0f-83f5-40c6-9903-977ac9e69b19",
   "metadata": {},
   "outputs": [
    {
     "data": {
      "text/html": [
       "<div>\n",
       "<style scoped>\n",
       "    .dataframe tbody tr th:only-of-type {\n",
       "        vertical-align: middle;\n",
       "    }\n",
       "\n",
       "    .dataframe tbody tr th {\n",
       "        vertical-align: top;\n",
       "    }\n",
       "\n",
       "    .dataframe thead th {\n",
       "        text-align: right;\n",
       "    }\n",
       "</style>\n",
       "<table border=\"1\" class=\"dataframe\">\n",
       "  <thead>\n",
       "    <tr style=\"text-align: right;\">\n",
       "      <th></th>\n",
       "      <th>Date</th>\n",
       "      <th>text</th>\n",
       "    </tr>\n",
       "  </thead>\n",
       "  <tbody>\n",
       "    <tr>\n",
       "      <th>0</th>\n",
       "      <td>2019-05-27</td>\n",
       "      <td>È appena uscito un nuovo video! LES CRYPTOMONN...</td>\n",
       "    </tr>\n",
       "    <tr>\n",
       "      <th>1</th>\n",
       "      <td>2019-05-27</td>\n",
       "      <td>Cardano: Digitize Currencies; EOS https://t.co...</td>\n",
       "    </tr>\n",
       "    <tr>\n",
       "      <th>2</th>\n",
       "      <td>2019-05-27</td>\n",
       "      <td>Another Test tweet that wasn't caught in the s...</td>\n",
       "    </tr>\n",
       "    <tr>\n",
       "      <th>3</th>\n",
       "      <td>2019-05-27</td>\n",
       "      <td>Current Crypto Prices! \\n\\nBTC: $8721.99 USD\\n...</td>\n",
       "    </tr>\n",
       "    <tr>\n",
       "      <th>4</th>\n",
       "      <td>2019-05-27</td>\n",
       "      <td>Spiv (Nosar Baz): BITCOIN Is An Asset &amp;amp; NO...</td>\n",
       "    </tr>\n",
       "  </tbody>\n",
       "</table>\n",
       "</div>"
      ],
      "text/plain": [
       "         Date                                               text\n",
       "0  2019-05-27  È appena uscito un nuovo video! LES CRYPTOMONN...\n",
       "1  2019-05-27  Cardano: Digitize Currencies; EOS https://t.co...\n",
       "2  2019-05-27  Another Test tweet that wasn't caught in the s...\n",
       "3  2019-05-27  Current Crypto Prices! \\n\\nBTC: $8721.99 USD\\n...\n",
       "4  2019-05-27  Spiv (Nosar Baz): BITCOIN Is An Asset &amp; NO..."
      ]
     },
     "execution_count": 36,
     "metadata": {},
     "output_type": "execute_result"
    }
   ],
   "source": [
    "df = df.dropna()\n",
    "df.head()"
   ]
  },
  {
   "cell_type": "code",
   "execution_count": 37,
   "id": "1ffdf492-c202-4ae7-9964-abd27a677235",
   "metadata": {},
   "outputs": [
    {
     "name": "stdout",
     "output_type": "stream",
     "text": [
      "0        2019-05-27\n",
      "1        2019-05-27\n",
      "2        2019-05-27\n",
      "3        2019-05-27\n",
      "4        2019-05-27\n",
      "            ...    \n",
      "999995   2019-05-21\n",
      "999996   2019-05-21\n",
      "999997   2019-05-21\n",
      "999998   2019-05-21\n",
      "999999   2019-05-21\n",
      "Name: Date, Length: 1000000, dtype: datetime64[ns]\n"
     ]
    }
   ],
   "source": [
    "# Convert the \"date\" column to a DatetimeIndex\n",
    "date_index = pd.to_datetime(df['Date'])\n",
    "print(date_index)"
   ]
  },
  {
   "cell_type": "code",
   "execution_count": 38,
   "id": "a3e2e51e-d705-4e3f-8d07-9ba898d0add0",
   "metadata": {},
   "outputs": [],
   "source": [
    "df = df.drop('Date', axis=1)"
   ]
  },
  {
   "cell_type": "code",
   "execution_count": 40,
   "id": "7d8023b0-6620-4186-8525-2adcb460eb44",
   "metadata": {},
   "outputs": [
    {
     "data": {
      "text/html": [
       "<div>\n",
       "<style scoped>\n",
       "    .dataframe tbody tr th:only-of-type {\n",
       "        vertical-align: middle;\n",
       "    }\n",
       "\n",
       "    .dataframe tbody tr th {\n",
       "        vertical-align: top;\n",
       "    }\n",
       "\n",
       "    .dataframe thead th {\n",
       "        text-align: right;\n",
       "    }\n",
       "</style>\n",
       "<table border=\"1\" class=\"dataframe\">\n",
       "  <thead>\n",
       "    <tr style=\"text-align: right;\">\n",
       "      <th></th>\n",
       "      <th>text</th>\n",
       "    </tr>\n",
       "  </thead>\n",
       "  <tbody>\n",
       "    <tr>\n",
       "      <th>0</th>\n",
       "      <td>È appena uscito un nuovo video! LES CRYPTOMONN...</td>\n",
       "    </tr>\n",
       "    <tr>\n",
       "      <th>1</th>\n",
       "      <td>Cardano: Digitize Currencies; EOS https://t.co...</td>\n",
       "    </tr>\n",
       "    <tr>\n",
       "      <th>2</th>\n",
       "      <td>Another Test tweet that wasn't caught in the s...</td>\n",
       "    </tr>\n",
       "    <tr>\n",
       "      <th>3</th>\n",
       "      <td>Current Crypto Prices! \\n\\nBTC: $8721.99 USD\\n...</td>\n",
       "    </tr>\n",
       "    <tr>\n",
       "      <th>4</th>\n",
       "      <td>Spiv (Nosar Baz): BITCOIN Is An Asset &amp;amp; NO...</td>\n",
       "    </tr>\n",
       "    <tr>\n",
       "      <th>...</th>\n",
       "      <td>...</td>\n",
       "    </tr>\n",
       "    <tr>\n",
       "      <th>999995</th>\n",
       "      <td>Dutch Man Arrested Over $2.2 Million Bitcoin M...</td>\n",
       "    </tr>\n",
       "    <tr>\n",
       "      <th>999996</th>\n",
       "      <td>This is how crypto can do some of it's best wo...</td>\n",
       "    </tr>\n",
       "    <tr>\n",
       "      <th>999997</th>\n",
       "      <td>クレイグ・ライト氏、\\nBitcoinホワイトペーパー\\n著作権を登録 ✍️\\n💸BSV高騰...</td>\n",
       "    </tr>\n",
       "    <tr>\n",
       "      <th>999998</th>\n",
       "      <td>Bitcoin doesn't have inherent value. \\nAltcoin...</td>\n",
       "    </tr>\n",
       "    <tr>\n",
       "      <th>999999</th>\n",
       "      <td>Get Free Bitcoin        https://t.co/WriteI4zFV</td>\n",
       "    </tr>\n",
       "  </tbody>\n",
       "</table>\n",
       "<p>1000000 rows × 1 columns</p>\n",
       "</div>"
      ],
      "text/plain": [
       "                                                     text\n",
       "0       È appena uscito un nuovo video! LES CRYPTOMONN...\n",
       "1       Cardano: Digitize Currencies; EOS https://t.co...\n",
       "2       Another Test tweet that wasn't caught in the s...\n",
       "3       Current Crypto Prices! \\n\\nBTC: $8721.99 USD\\n...\n",
       "4       Spiv (Nosar Baz): BITCOIN Is An Asset &amp; NO...\n",
       "...                                                   ...\n",
       "999995  Dutch Man Arrested Over $2.2 Million Bitcoin M...\n",
       "999996  This is how crypto can do some of it's best wo...\n",
       "999997  クレイグ・ライト氏、\\nBitcoinホワイトペーパー\\n著作権を登録 ✍️\\n💸BSV高騰...\n",
       "999998  Bitcoin doesn't have inherent value. \\nAltcoin...\n",
       "999999    Get Free Bitcoin        https://t.co/WriteI4zFV\n",
       "\n",
       "[1000000 rows x 1 columns]"
      ]
     },
     "execution_count": 40,
     "metadata": {},
     "output_type": "execute_result"
    }
   ],
   "source": [
    "df"
   ]
  },
  {
   "cell_type": "code",
   "execution_count": 41,
   "id": "5d027116-f737-48c7-919f-51499e89c88f",
   "metadata": {},
   "outputs": [],
   "source": [
    "# Set the DatetimeIndex as the index of the DataFrame\n",
    "df['Fecha'] = date_index"
   ]
  },
  {
   "cell_type": "code",
   "execution_count": 45,
   "id": "2973e6fd-9575-48fe-bd56-524a994ba9e3",
   "metadata": {},
   "outputs": [
    {
     "name": "stdout",
     "output_type": "stream",
     "text": [
      "<class 'pandas.core.frame.DataFrame'>\n",
      "Int64Index: 1000000 entries, 0 to 999999\n",
      "Data columns (total 2 columns):\n",
      " #   Column  Non-Null Count    Dtype         \n",
      "---  ------  --------------    -----         \n",
      " 0   text    1000000 non-null  object        \n",
      " 1   Fecha   1000000 non-null  datetime64[ns]\n",
      "dtypes: datetime64[ns](1), object(1)\n",
      "memory usage: 22.9+ MB\n"
     ]
    }
   ],
   "source": [
    "df.info()"
   ]
  },
  {
   "cell_type": "code",
   "execution_count": 46,
   "id": "3eb2c117-584a-4c54-9b80-6b2785745591",
   "metadata": {},
   "outputs": [
    {
     "data": {
      "text/html": [
       "<div>\n",
       "<style scoped>\n",
       "    .dataframe tbody tr th:only-of-type {\n",
       "        vertical-align: middle;\n",
       "    }\n",
       "\n",
       "    .dataframe tbody tr th {\n",
       "        vertical-align: top;\n",
       "    }\n",
       "\n",
       "    .dataframe thead th {\n",
       "        text-align: right;\n",
       "    }\n",
       "</style>\n",
       "<table border=\"1\" class=\"dataframe\">\n",
       "  <thead>\n",
       "    <tr style=\"text-align: right;\">\n",
       "      <th></th>\n",
       "      <th>text</th>\n",
       "      <th>Fecha</th>\n",
       "    </tr>\n",
       "  </thead>\n",
       "  <tbody>\n",
       "    <tr>\n",
       "      <th>0</th>\n",
       "      <td>È appena uscito un nuovo video! LES CRYPTOMONN...</td>\n",
       "      <td>2019-05-27</td>\n",
       "    </tr>\n",
       "    <tr>\n",
       "      <th>1</th>\n",
       "      <td>Cardano: Digitize Currencies; EOS https://t.co...</td>\n",
       "      <td>2019-05-27</td>\n",
       "    </tr>\n",
       "    <tr>\n",
       "      <th>2</th>\n",
       "      <td>Another Test tweet that wasn't caught in the s...</td>\n",
       "      <td>2019-05-27</td>\n",
       "    </tr>\n",
       "    <tr>\n",
       "      <th>3</th>\n",
       "      <td>Current Crypto Prices! \\n\\nBTC: $8721.99 USD\\n...</td>\n",
       "      <td>2019-05-27</td>\n",
       "    </tr>\n",
       "    <tr>\n",
       "      <th>4</th>\n",
       "      <td>Spiv (Nosar Baz): BITCOIN Is An Asset &amp;amp; NO...</td>\n",
       "      <td>2019-05-27</td>\n",
       "    </tr>\n",
       "  </tbody>\n",
       "</table>\n",
       "</div>"
      ],
      "text/plain": [
       "                                                text      Fecha\n",
       "0  È appena uscito un nuovo video! LES CRYPTOMONN... 2019-05-27\n",
       "1  Cardano: Digitize Currencies; EOS https://t.co... 2019-05-27\n",
       "2  Another Test tweet that wasn't caught in the s... 2019-05-27\n",
       "3  Current Crypto Prices! \\n\\nBTC: $8721.99 USD\\n... 2019-05-27\n",
       "4  Spiv (Nosar Baz): BITCOIN Is An Asset &amp; NO... 2019-05-27"
      ]
     },
     "execution_count": 46,
     "metadata": {},
     "output_type": "execute_result"
    }
   ],
   "source": [
    "df.head()"
   ]
  },
  {
   "cell_type": "code",
   "execution_count": 7,
   "id": "05e6bbdc-e7a3-42d4-a133-53d6b9df1743",
   "metadata": {},
   "outputs": [],
   "source": [
    "#nltk.download(\"vader_lexicon\")"
   ]
  },
  {
   "cell_type": "code",
   "execution_count": 47,
   "id": "b2feb5c7-ad19-40b1-b1ae-b06e52f094fe",
   "metadata": {},
   "outputs": [],
   "source": [
    "analyzer = SentimentIntensityAnalyzer()\n",
    "sentimientos = []\n",
    "for texto in df['text']:\n",
    "    sentiment = analyzer.polarity_scores(texto)\n",
    "    analisis = sentiment['compound']\n",
    "    sentimientos.append(analisis)\n",
    "    \n",
    "df['sentimientos'] = sentimientos"
   ]
  },
  {
   "cell_type": "code",
   "execution_count": 49,
   "id": "285036c3-8716-416f-a953-ca337c387d17",
   "metadata": {},
   "outputs": [
    {
     "data": {
      "text/html": [
       "<div>\n",
       "<style scoped>\n",
       "    .dataframe tbody tr th:only-of-type {\n",
       "        vertical-align: middle;\n",
       "    }\n",
       "\n",
       "    .dataframe tbody tr th {\n",
       "        vertical-align: top;\n",
       "    }\n",
       "\n",
       "    .dataframe thead th {\n",
       "        text-align: right;\n",
       "    }\n",
       "</style>\n",
       "<table border=\"1\" class=\"dataframe\">\n",
       "  <thead>\n",
       "    <tr style=\"text-align: right;\">\n",
       "      <th></th>\n",
       "      <th>text</th>\n",
       "      <th>Fecha</th>\n",
       "      <th>sentimientos</th>\n",
       "    </tr>\n",
       "  </thead>\n",
       "  <tbody>\n",
       "    <tr>\n",
       "      <th>0</th>\n",
       "      <td>È appena uscito un nuovo video! LES CRYPTOMONN...</td>\n",
       "      <td>2019-05-27</td>\n",
       "      <td>0.0000</td>\n",
       "    </tr>\n",
       "    <tr>\n",
       "      <th>1</th>\n",
       "      <td>Cardano: Digitize Currencies; EOS https://t.co...</td>\n",
       "      <td>2019-05-27</td>\n",
       "      <td>-0.1027</td>\n",
       "    </tr>\n",
       "    <tr>\n",
       "      <th>2</th>\n",
       "      <td>Another Test tweet that wasn't caught in the s...</td>\n",
       "      <td>2019-05-27</td>\n",
       "      <td>0.0000</td>\n",
       "    </tr>\n",
       "    <tr>\n",
       "      <th>3</th>\n",
       "      <td>Current Crypto Prices! \\n\\nBTC: $8721.99 USD\\n...</td>\n",
       "      <td>2019-05-27</td>\n",
       "      <td>0.0000</td>\n",
       "    </tr>\n",
       "    <tr>\n",
       "      <th>4</th>\n",
       "      <td>Spiv (Nosar Baz): BITCOIN Is An Asset &amp;amp; NO...</td>\n",
       "      <td>2019-05-27</td>\n",
       "      <td>0.3612</td>\n",
       "    </tr>\n",
       "  </tbody>\n",
       "</table>\n",
       "</div>"
      ],
      "text/plain": [
       "                                                text      Fecha  sentimientos\n",
       "0  È appena uscito un nuovo video! LES CRYPTOMONN... 2019-05-27        0.0000\n",
       "1  Cardano: Digitize Currencies; EOS https://t.co... 2019-05-27       -0.1027\n",
       "2  Another Test tweet that wasn't caught in the s... 2019-05-27        0.0000\n",
       "3  Current Crypto Prices! \\n\\nBTC: $8721.99 USD\\n... 2019-05-27        0.0000\n",
       "4  Spiv (Nosar Baz): BITCOIN Is An Asset &amp; NO... 2019-05-27        0.3612"
      ]
     },
     "execution_count": 49,
     "metadata": {},
     "output_type": "execute_result"
    }
   ],
   "source": [
    "df.head()"
   ]
  },
  {
   "cell_type": "code",
   "execution_count": 50,
   "id": "893528c8-27be-4248-be00-f4e604211cd3",
   "metadata": {},
   "outputs": [
    {
     "name": "stdout",
     "output_type": "stream",
     "text": [
      "<class 'pandas.core.frame.DataFrame'>\n",
      "Int64Index: 1000000 entries, 0 to 999999\n",
      "Data columns (total 3 columns):\n",
      " #   Column        Non-Null Count    Dtype         \n",
      "---  ------        --------------    -----         \n",
      " 0   text          1000000 non-null  object        \n",
      " 1   Fecha         1000000 non-null  datetime64[ns]\n",
      " 2   sentimientos  1000000 non-null  float64       \n",
      "dtypes: datetime64[ns](1), float64(1), object(1)\n",
      "memory usage: 30.5+ MB\n"
     ]
    }
   ],
   "source": [
    "df.info()"
   ]
  },
  {
   "cell_type": "code",
   "execution_count": 51,
   "id": "9d5f0606-c6da-4b3c-bcb3-ba076834e2f6",
   "metadata": {},
   "outputs": [
    {
     "name": "stdout",
     "output_type": "stream",
     "text": [
      "<class 'pandas.core.frame.DataFrame'>\n",
      "Int64Index: 1000000 entries, 0 to 999999\n",
      "Data columns (total 2 columns):\n",
      " #   Column        Non-Null Count    Dtype         \n",
      "---  ------        --------------    -----         \n",
      " 0   Fecha         1000000 non-null  datetime64[ns]\n",
      " 1   sentimientos  1000000 non-null  float64       \n",
      "dtypes: datetime64[ns](1), float64(1)\n",
      "memory usage: 22.9 MB\n"
     ]
    }
   ],
   "source": [
    "df = df.drop('text', axis=1)\n",
    "df.info()"
   ]
  },
  {
   "cell_type": "code",
   "execution_count": 62,
   "id": "3345223d-a3f4-4860-8bcd-4de57ecd11c2",
   "metadata": {},
   "outputs": [
    {
     "name": "stdout",
     "output_type": "stream",
     "text": [
      "Fecha           datetime64[ns]\n",
      "sentimientos           float64\n",
      "dtype: object\n"
     ]
    }
   ],
   "source": [
    "# AHORA AGRUPAMOS POR MES\n",
    "print(df.dtypes)"
   ]
  },
  {
   "cell_type": "code",
   "execution_count": 65,
   "id": "7f8cc056-2ba3-4ef5-a489-f259c71c8177",
   "metadata": {},
   "outputs": [],
   "source": [
    "# Group the DataFrame by day\n",
    "dfdiario = df.groupby(by=\"Fecha\").sum()"
   ]
  },
  {
   "cell_type": "code",
   "execution_count": 81,
   "id": "7b1abc31-1843-499e-8b60-4d11dfc6d04a",
   "metadata": {},
   "outputs": [
    {
     "name": "stdout",
     "output_type": "stream",
     "text": [
      "            sentimientos\n",
      "Fecha                   \n",
      "2009-01-11        0.0000\n",
      "2011-01-09       -0.3400\n",
      "2011-04-14       -0.4215\n",
      "2011-05-10        0.7096\n",
      "2011-05-14        0.3612\n",
      "...                  ...\n",
      "2019-05-23        1.8920\n",
      "2019-05-24        0.9614\n",
      "2019-05-25        7.2337\n",
      "2019-05-26       24.7429\n",
      "2019-05-27      781.1298\n",
      "\n",
      "[2044 rows x 1 columns]\n"
     ]
    }
   ],
   "source": [
    "print(dfdiario)"
   ]
  },
  {
   "cell_type": "code",
   "execution_count": 83,
   "id": "f956f958-c722-471d-b8ee-15f14e1a6f06",
   "metadata": {},
   "outputs": [],
   "source": [
    "dfmes = df.groupby(pd.Grouper(key='Fecha', freq='1M')).sum()"
   ]
  },
  {
   "cell_type": "code",
   "execution_count": 87,
   "id": "8c80b4e0-19b9-4751-ac02-3111aa137ae9",
   "metadata": {},
   "outputs": [
    {
     "data": {
      "text/html": [
       "<div>\n",
       "<style scoped>\n",
       "    .dataframe tbody tr th:only-of-type {\n",
       "        vertical-align: middle;\n",
       "    }\n",
       "\n",
       "    .dataframe tbody tr th {\n",
       "        vertical-align: top;\n",
       "    }\n",
       "\n",
       "    .dataframe thead th {\n",
       "        text-align: right;\n",
       "    }\n",
       "</style>\n",
       "<table border=\"1\" class=\"dataframe\">\n",
       "  <thead>\n",
       "    <tr style=\"text-align: right;\">\n",
       "      <th></th>\n",
       "      <th>sentimientos</th>\n",
       "    </tr>\n",
       "    <tr>\n",
       "      <th>Fecha</th>\n",
       "      <th></th>\n",
       "    </tr>\n",
       "  </thead>\n",
       "  <tbody>\n",
       "    <tr>\n",
       "      <th>2009-01-31</th>\n",
       "      <td>0.0000</td>\n",
       "    </tr>\n",
       "    <tr>\n",
       "      <th>2009-02-28</th>\n",
       "      <td>0.0000</td>\n",
       "    </tr>\n",
       "    <tr>\n",
       "      <th>2009-03-31</th>\n",
       "      <td>0.0000</td>\n",
       "    </tr>\n",
       "    <tr>\n",
       "      <th>2009-04-30</th>\n",
       "      <td>0.0000</td>\n",
       "    </tr>\n",
       "    <tr>\n",
       "      <th>2009-05-31</th>\n",
       "      <td>0.0000</td>\n",
       "    </tr>\n",
       "    <tr>\n",
       "      <th>...</th>\n",
       "      <td>...</td>\n",
       "    </tr>\n",
       "    <tr>\n",
       "      <th>2019-01-31</th>\n",
       "      <td>90.8226</td>\n",
       "    </tr>\n",
       "    <tr>\n",
       "      <th>2019-02-28</th>\n",
       "      <td>117.7682</td>\n",
       "    </tr>\n",
       "    <tr>\n",
       "      <th>2019-03-31</th>\n",
       "      <td>390.4884</td>\n",
       "    </tr>\n",
       "    <tr>\n",
       "      <th>2019-04-30</th>\n",
       "      <td>562.7267</td>\n",
       "    </tr>\n",
       "    <tr>\n",
       "      <th>2019-05-31</th>\n",
       "      <td>113289.8462</td>\n",
       "    </tr>\n",
       "  </tbody>\n",
       "</table>\n",
       "<p>125 rows × 1 columns</p>\n",
       "</div>"
      ],
      "text/plain": [
       "            sentimientos\n",
       "Fecha                   \n",
       "2009-01-31        0.0000\n",
       "2009-02-28        0.0000\n",
       "2009-03-31        0.0000\n",
       "2009-04-30        0.0000\n",
       "2009-05-31        0.0000\n",
       "...                  ...\n",
       "2019-01-31       90.8226\n",
       "2019-02-28      117.7682\n",
       "2019-03-31      390.4884\n",
       "2019-04-30      562.7267\n",
       "2019-05-31   113289.8462\n",
       "\n",
       "[125 rows x 1 columns]"
      ]
     },
     "metadata": {},
     "output_type": "display_data"
    }
   ],
   "source": [
    "display(dfmes)"
   ]
  },
  {
   "cell_type": "markdown",
   "id": "54167795-9f16-4684-af3c-141b5852fef1",
   "metadata": {},
   "source": [
    "## GRAFICO DIARIO"
   ]
  },
  {
   "cell_type": "code",
   "execution_count": 113,
   "id": "d73b0404-9dee-412a-88b6-809c891bf78a",
   "metadata": {
    "tags": []
   },
   "outputs": [
    {
     "data": {
      "text/plain": [
       "<AxesSubplot:title={'center':'Diagrama de Lineas'}, xlabel='Fecha', ylabel='Suma de valores'>"
      ]
     },
     "execution_count": 113,
     "metadata": {},
     "output_type": "execute_result"
    },
    {
     "data": {
      "image/png": "[encoded data removed]",
      "text/plain": [
       "<Figure size 1080x432 with 1 Axes>"
      ]
     },
     "metadata": {
      "needs_background": "light"
     },
     "output_type": "display_data"
    }
   ],
   "source": [
    "dfgrafico = dfdiario.clip(upper=15)\n",
    "dfgrafico.plot(kind='line', title='Diagrama de Lineas', xlabel='Fecha', ylabel='Suma de valores', figsize=(15,6))"
   ]
  },
  {
   "cell_type": "code",
   "execution_count": 114,
   "id": "150e3514-d310-485d-90da-40decec48721",
   "metadata": {
    "tags": []
   },
   "outputs": [
    {
     "data": {
      "text/plain": [
       "<AxesSubplot:title={'center':'Diagrama de Cajas'}, ylabel='Suma de valores'>"
      ]
     },
     "execution_count": 114,
     "metadata": {},
     "output_type": "execute_result"
    },
    {
     "data": {
      "image/png": "[encoded data removed]",
      "text/plain": [
       "<Figure size 1080x432 with 1 Axes>"
      ]
     },
     "metadata": {
      "needs_background": "light"
     },
     "output_type": "display_data"
    }
   ],
   "source": [
    "dfgrafico.plot(kind='box', title='Diagrama de Cajas', xlabel='Fecha', ylabel='Suma de valores', figsize=(15,6))"
   ]
  },
  {
   "cell_type": "markdown",
   "id": "5f2098e4-d158-49a7-91ad-7f7e85b93b07",
   "metadata": {},
   "source": [
    "## GRAFICO POR MES"
   ]
  },
  {
   "cell_type": "code",
   "execution_count": 118,
   "id": "addb1ecf-5914-44df-910a-efff77286347",
   "metadata": {},
   "outputs": [
    {
     "data": {
      "text/plain": [
       "<AxesSubplot:title={'center':'Diagrama de Lineas'}, xlabel='Fecha', ylabel='Suma de valores'>"
      ]
     },
     "execution_count": 118,
     "metadata": {},
     "output_type": "execute_result"
    },
    {
     "data": {
      "image/png": "[encoded data removed]",
      "text/plain": [
       "<Figure size 1080x432 with 1 Axes>"
      ]
     },
     "metadata": {
      "needs_background": "light"
     },
     "output_type": "display_data"
    }
   ],
   "source": [
    "dfgraficomes = dfmes.clip(upper=100)\n",
    "dfgraficomes.plot(kind='line', title='Diagrama de Lineas', xlabel='Fecha', ylabel='Suma de valores', figsize=(15,6))"
   ]
  },
  {
   "cell_type": "code",
   "execution_count": 116,
   "id": "83c8aa34-86d3-47ee-9d9d-cbfb02f01fcf",
   "metadata": {},
   "outputs": [
    {
     "data": {
      "text/plain": [
       "<AxesSubplot:title={'center':'Diagrama de Cajas'}, ylabel='Suma de valores'>"
      ]
     },
     "execution_count": 116,
     "metadata": {},
     "output_type": "execute_result"
    },
    {
     "data": {
      "image/png": "[encoded data removed]",
      "text/plain": [
       "<Figure size 1080x432 with 1 Axes>"
      ]
     },
     "metadata": {
      "needs_background": "light"
     },
     "output_type": "display_data"
    }
   ],
   "source": [
    "dfgraficomes.plot(kind='box', title='Diagrama de Cajas', xlabel='Fecha', ylabel='Suma de valores', figsize=(15,6))"
   ]
  },
  {
   "cell_type": "code",
   "execution_count": null,
   "id": "b042da8e-454d-46b6-875f-722ad99a7189",
   "metadata": {},
   "outputs": [],
   "source": []
  },
  {
   "cell_type": "code",
   "execution_count": null,
   "id": "547e7420-9886-4f9b-886e-1524a2148299",
   "metadata": {},
   "outputs": [],
   "source": []
  },
  {
   "cell_type": "code",
   "execution_count": null,
   "id": "4e6bee62-cbfd-490b-b451-b447463cca09",
   "metadata": {},
   "outputs": [],
   "source": []
  },
  {
   "cell_type": "code",
   "execution_count": null,
   "id": "ace02d1d-587d-432c-9fc9-9cc2ab3710a4",
   "metadata": {},
   "outputs": [],
   "source": []
  },
  {
   "cell_type": "code",
   "execution_count": null,
   "id": "4c0019c6-7790-40dd-8b5b-749b95461d02",
   "metadata": {},
   "outputs": [],
   "source": []
  },
  {
   "cell_type": "markdown",
   "id": "c84e3eca-aecc-478c-9007-f66d1c63e08b",
   "metadata": {},
   "source": [
    "por quartiles en vez de barras y lineas"
   ]
  },
  {
   "cell_type": "markdown",
   "id": "9a19d882-bcf9-4105-ab73-ea10ffe2efc2",
   "metadata": {},
   "source": [
    "ademas organizar el date por mes y año en vez de x dia"
   ]
  },
  {
   "cell_type": "markdown",
   "id": "47465335-8254-47fe-a48f-6c57bec135d3",
   "metadata": {},
   "source": [
    "retocar el modelo predictivo para subirle en la entrega"
   ]
  }
 ],
 "metadata": {
  "kernelspec": {
   "display_name": "Python 3",
   "language": "python",
   "name": "python3"
  },
  "language_info": {
   "codemirror_mode": {
    "name": "ipython",
    "version": 3
   },
   "file_extension": ".py",
   "mimetype": "text/x-python",
   "name": "python",
   "nbconvert_exporter": "python",
   "pygments_lexer": "ipython3",
   "version": "3.8.8"
  }
 },
 "nbformat": 4,
 "nbformat_minor": 5
}
