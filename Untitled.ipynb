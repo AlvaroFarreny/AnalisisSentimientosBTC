{
 "cells": [
  {
   "cell_type": "code",
   "execution_count": 1,
   "id": "bf850b37-0ee7-4c5e-942f-e3ec59597ada",
   "metadata": {},
   "outputs": [],
   "source": [
    "#pip install prophet"
   ]
  },
  {
   "cell_type": "code",
   "execution_count": 2,
   "id": "88fed2a2-b283-4884-8545-e9cc0e47afdf",
   "metadata": {
    "tags": []
   },
   "outputs": [
    {
     "name": "stderr",
     "output_type": "stream",
     "text": [
      "C:\\Users\\farre\\anaconda3\\lib\\site-packages\\scipy\\__init__.py:138: UserWarning: A NumPy version >=1.16.5 and <1.23.0 is required for this version of SciPy (detected version 1.23.4)\n",
      "  warnings.warn(f\"A NumPy version >={np_minversion} and <{np_maxversion} is required for this version of \"\n",
      "Importing plotly failed. Interactive plots will not work.\n"
     ]
    }
   ],
   "source": [
    "#Data Pre-Processing packages:\n",
    "import numpy as np \n",
    "import pandas as pd \n",
    "from datetime import datetime\n",
    "\n",
    "\n",
    "#Data Visualization Packages:\n",
    "#Seaborn\n",
    "import seaborn as sns\n",
    "sns.set(rc={'figure.figsize':(10,6)})\n",
    "custom_colors = [\"#4e89ae\", \"#c56183\",\"#ed6663\",\"#ffa372\"]\n",
    "\n",
    "#Matplotlib\n",
    "import matplotlib.pyplot as plt\n",
    "%matplotlib inline\n",
    "import matplotlib.image as mpimg\n",
    "\n",
    "#Colorama\n",
    "from colorama import Fore, Back, Style # For text colors\n",
    "y_= Fore.CYAN\n",
    "m_= Fore.WHITE\n",
    "\n",
    "#Time series Analysis pacakages:\n",
    "\n",
    "from statsmodels.tsa.seasonal import seasonal_decompose\n",
    "from statsmodels.tsa.stattools import kpss\n",
    "from statsmodels.tsa.stattools import adfuller\n",
    "from statsmodels.graphics.tsaplots import plot_acf, plot_pacf\n",
    "\n",
    "#Time -To find how long each cell takes to run\n",
    "import time\n",
    "\n",
    "#Importing of Data \n",
    "data=pd.read_csv('Bitcoin-Historical-Data.csv')\n",
    "from prophet import Prophet\n",
    "from prophet.diagnostics import cross_validation, performance_metrics\n",
    "from prophet.plot import add_changepoints_to_plot, plot_cross_validation_metric"
   ]
  },
  {
   "cell_type": "code",
   "execution_count": 3,
   "id": "2a9ce0c3-ac97-4582-ace8-581f879c3077",
   "metadata": {},
   "outputs": [
    {
     "name": "stdout",
     "output_type": "stream",
     "text": [
      "\u001b[37mDatos totales:\u001b[36m(2145, 7)\n",
      "\n",
      "\u001b[37mTipos de datos: \n",
      "\u001b[36mDate        object\n",
      "Price       object\n",
      "Open        object\n",
      "High        object\n",
      "Low         object\n",
      "Vol.        object\n",
      "Change %    object\n",
      "dtype: object\n"
     ]
    }
   ],
   "source": [
    "print(f\"{m_}Datos totales:{y_}{data.shape}\\n\")\n",
    "print(f\"{m_}Tipos de datos: \\n{y_}{data.dtypes}\")"
   ]
  },
  {
   "cell_type": "code",
   "execution_count": 4,
   "id": "2f0d98d2-92a8-407b-a8be-b521f89a8210",
   "metadata": {},
   "outputs": [
    {
     "data": {
      "text/html": [
       "<div>\n",
       "<style scoped>\n",
       "    .dataframe tbody tr th:only-of-type {\n",
       "        vertical-align: middle;\n",
       "    }\n",
       "\n",
       "    .dataframe tbody tr th {\n",
       "        vertical-align: top;\n",
       "    }\n",
       "\n",
       "    .dataframe thead th {\n",
       "        text-align: right;\n",
       "    }\n",
       "</style>\n",
       "<table border=\"1\" class=\"dataframe\">\n",
       "  <thead>\n",
       "    <tr style=\"text-align: right;\">\n",
       "      <th></th>\n",
       "      <th>Date</th>\n",
       "      <th>Price</th>\n",
       "      <th>Open</th>\n",
       "      <th>High</th>\n",
       "      <th>Low</th>\n",
       "      <th>Vol.</th>\n",
       "      <th>Change %</th>\n",
       "    </tr>\n",
       "  </thead>\n",
       "  <tbody>\n",
       "    <tr>\n",
       "      <th>0</th>\n",
       "      <td>Nov 15, 2022</td>\n",
       "      <td>16,842.4</td>\n",
       "      <td>16,615.0</td>\n",
       "      <td>16,974.1</td>\n",
       "      <td>16,543.9</td>\n",
       "      <td>364.24K</td>\n",
       "      <td>1.38%</td>\n",
       "    </tr>\n",
       "    <tr>\n",
       "      <th>1</th>\n",
       "      <td>Nov 14, 2022</td>\n",
       "      <td>16,613.7</td>\n",
       "      <td>16,325.0</td>\n",
       "      <td>17,158.4</td>\n",
       "      <td>15,834.0</td>\n",
       "      <td>442.46K</td>\n",
       "      <td>1.77%</td>\n",
       "    </tr>\n",
       "    <tr>\n",
       "      <th>2</th>\n",
       "      <td>Nov 13, 2022</td>\n",
       "      <td>16,324.5</td>\n",
       "      <td>16,803.9</td>\n",
       "      <td>16,946.5</td>\n",
       "      <td>16,274.9</td>\n",
       "      <td>210.80K</td>\n",
       "      <td>-2.80%</td>\n",
       "    </tr>\n",
       "    <tr>\n",
       "      <th>3</th>\n",
       "      <td>Nov 12, 2022</td>\n",
       "      <td>16,795.2</td>\n",
       "      <td>17,049.9</td>\n",
       "      <td>17,100.8</td>\n",
       "      <td>16,633.9</td>\n",
       "      <td>192.91K</td>\n",
       "      <td>-1.49%</td>\n",
       "    </tr>\n",
       "    <tr>\n",
       "      <th>4</th>\n",
       "      <td>Nov 11, 2022</td>\n",
       "      <td>17,049.9</td>\n",
       "      <td>17,589.1</td>\n",
       "      <td>17,679.4</td>\n",
       "      <td>16,435.5</td>\n",
       "      <td>466.35K</td>\n",
       "      <td>-3.07%</td>\n",
       "    </tr>\n",
       "  </tbody>\n",
       "</table>\n",
       "</div>"
      ],
      "text/plain": [
       "           Date     Price      Open      High       Low     Vol. Change %\n",
       "0  Nov 15, 2022  16,842.4  16,615.0  16,974.1  16,543.9  364.24K    1.38%\n",
       "1  Nov 14, 2022  16,613.7  16,325.0  17,158.4  15,834.0  442.46K    1.77%\n",
       "2  Nov 13, 2022  16,324.5  16,803.9  16,946.5  16,274.9  210.80K   -2.80%\n",
       "3  Nov 12, 2022  16,795.2  17,049.9  17,100.8  16,633.9  192.91K   -1.49%\n",
       "4  Nov 11, 2022  17,049.9  17,589.1  17,679.4  16,435.5  466.35K   -3.07%"
      ]
     },
     "execution_count": 4,
     "metadata": {},
     "output_type": "execute_result"
    }
   ],
   "source": [
    "data.head()"
   ]
  },
  {
   "cell_type": "code",
   "execution_count": 5,
   "id": "1ed55999-b2a8-4e64-a07c-2cc3563982fd",
   "metadata": {},
   "outputs": [
    {
     "name": "stdout",
     "output_type": "stream",
     "text": [
      "<class 'pandas.core.frame.DataFrame'>\n",
      "RangeIndex: 2145 entries, 0 to 2144\n",
      "Data columns (total 7 columns):\n",
      " #   Column    Non-Null Count  Dtype \n",
      "---  ------    --------------  ----- \n",
      " 0   Date      2145 non-null   object\n",
      " 1   Price     2145 non-null   object\n",
      " 2   Open      2145 non-null   object\n",
      " 3   High      2145 non-null   object\n",
      " 4   Low       2145 non-null   object\n",
      " 5   Vol.      2145 non-null   object\n",
      " 6   Change %  2145 non-null   object\n",
      "dtypes: object(7)\n",
      "memory usage: 117.4+ KB\n"
     ]
    }
   ],
   "source": [
    "data.info()"
   ]
  },
  {
   "cell_type": "markdown",
   "id": "b7a31c98-1cee-40ad-a9ac-e90d4a91d579",
   "metadata": {},
   "source": [
    "pasamos de object a float"
   ]
  },
  {
   "cell_type": "code",
   "execution_count": 6,
   "id": "4d38c8a7-fe10-42fc-a935-c770ffab0b8f",
   "metadata": {},
   "outputs": [],
   "source": [
    "data[['Price','Open','High','Low','Vol.']]=data[['Price','Open','High','Low','Vol.']].replace(to_replace=',', value='', regex=True)\n",
    "data.astype({'Date':str,'Price':float,'Open':float,'High':float,'Low':float,'Vol.':float,'Change %':str})"
   ]
  },
  {
   "cell_type": "code",
   "execution_count": null,
   "id": "4726139e-49ed-495d-ac5a-15cba59ec410",
   "metadata": {},
   "outputs": [],
   "source": []
  }
 ],
 "metadata": {
  "kernelspec": {
   "display_name": "Python 3",
   "language": "python",
   "name": "python3"
  },
  "language_info": {
   "codemirror_mode": {
    "name": "ipython",
    "version": 3
   },
   "file_extension": ".py",
   "mimetype": "text/x-python",
   "name": "python",
   "nbconvert_exporter": "python",
   "pygments_lexer": "ipython3",
   "version": "3.8.8"
  }
 },
 "nbformat": 4,
 "nbformat_minor": 5
}
