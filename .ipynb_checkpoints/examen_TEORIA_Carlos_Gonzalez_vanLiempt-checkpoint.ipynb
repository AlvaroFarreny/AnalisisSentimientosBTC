{
 "cells": [
  {
   "cell_type": "markdown",
   "id": "573c1f2c-86bf-474e-a99d-08eb47eca1a8",
   "metadata": {},
   "source": [
    " # Parte 1. Teoría (3 puntos)\n",
    "Desarrollar los siguientes tres puntos,\n"
   ]
  },
  {
   "cell_type": "markdown",
   "id": "033632f2-2eba-4a0e-a010-3fa9830d5561",
   "metadata": {},
   "source": [
    "## 1. ¿En qué consiste el análisis EDA? Pon un ejemplo."
   ]
  },
  {
   "cell_type": "markdown",
   "id": "11087592-12e5-4d5b-a920-221cee44d37d",
   "metadata": {},
   "source": [
    " + El análisis exploratorio de datos consiste en el estudio y el procesamiento que se realiza a un conjunto de datos para poder sacar conclusiones o información relevante de los mismos antes de ejecutar modelos de aprendizaje. Se trata de identificar todos los datos y determinar características clave o incluso representaciones de datos significativa. Un ejemplo sería analizar este conjunto de datos:"
   ]
  },
  {
   "cell_type": "markdown",
   "id": "3dfa1b86-aeb8-4230-95fd-da7398e28ca2",
   "metadata": {
    "jp-MarkdownHeadingCollapsed": true,
    "tags": []
   },
   "source": [
    " + Pregnancies\tGlucose\tBloodPressure\tSkinThickness\tInsulin\tBMI\tDiabetesPedigreeFunction\tAge\tOutcome\n",
    " + count\t768.000000\t768.000000\t768.000000\t768.000000\t768.000000\t768.000000\t768.000000\t768.000000\t768.000000\n",
    " + mean\t3.845052\t120.894531\t69.105469\t20.536458\t79.799479\t31.992578\t0.471876\t33.240885\t0.348958\n",
    " + std\t3.369578\t31.972618\t19.355807\t15.952218\t115.244002\t7.884160\t0.331329\t11.760232\t0.476951\n",
    " + min\t0.000000\t0.000000\t0.000000\t0.000000\t0.000000\t0.000000\t0.078000\t21.000000\t0.000000\n",
    " + 25%\t1.000000\t99.000000\t62.000000\t0.000000\t0.000000\t27.300000\t0.243750\t24.000000\t0.000000\n",
    " + 50%\t3.000000\t117.000000\t72.000000\t23.000000\t30.500000\t32.000000\t0.372500\t29.000000\t0.000000\n",
    " + 75%\t6.000000\t140.250000\t80.000000\t32.000000\t127.250000\t36.600000\t0.626250\t41.000000\t1.000000\n",
    " + max\t17.000000\t199.000000\t122.000000\t99.000000\t846.000000\t67.100000\t2.420000\t81.000000\t1.000000"
   ]
  },
  {
   "cell_type": "markdown",
   "id": "f986d467-af4c-46ac-9594-7fc4d8342340",
   "metadata": {},
   "source": [
    "Hariamos un análisis de cada una de las variables para comprobar que datos tiene más valor que otros o cómo estan organizados los valores. Esto se podría hacer con un histograma de barras de todas las variables. También podriamos realizar un mapa de calor de todas las variables conjuntamente para ver la correlación que tienen unos datos con otros, o también puede ser, que no tengan correlación.\n"
   ]
  },
  {
   "cell_type": "markdown",
   "id": "4f18ee79-cf11-4022-8993-9ac06b83e798",
   "metadata": {},
   "source": [
    "## 2. Indicar con un ejemplo donde pueda aplicarse regresión lineal."
   ]
  },
  {
   "cell_type": "markdown",
   "id": "56ae698d-3570-4cbd-973d-65c171393638",
   "metadata": {},
   "source": [
    "Un ejemplo donde podríamos utilizar la regresion lineal es en la predicción del precio de mercado frente a un tercer agente que sepamos que tiene fuerte relación con la variación de precio, tal que eventos, noticias o acontecimientos de mercado. Por ejemplo: nuevos eventos de valor, buen sentimiento en redes sociales, ..."
   ]
  },
  {
   "cell_type": "markdown",
   "id": "02e38173-8ba4-4337-be3a-c4f3b99276b9",
   "metadata": {},
   "source": [
    "## 3. Indicar con un ejemplo donde pueda aplicarse regresión logística.\n"
   ]
  },
  {
   "cell_type": "markdown",
   "id": "2d1dca54-8ab8-49a4-8b09-578325a05538",
   "metadata": {},
   "source": [
    "La regresión logística se podría aplicar a la ciencias de la salud para intentar preveer enfermedades, esto se debe a que no solo contamos con datos cuantitavos sino también contamos con datos cualitativos. Por ejemplo: tipos de dolores, otras enfermedades, ..."
   ]
  },
  {
   "cell_type": "code",
   "execution_count": null,
   "id": "33588417-889b-4442-8c64-5b88f31dbd60",
   "metadata": {},
   "outputs": [],
   "source": []
  }
 ],
 "metadata": {
  "kernelspec": {
   "display_name": "",
   "name": ""
  },
  "language_info": {
   "name": ""
  }
 },
 "nbformat": 4,
 "nbformat_minor": 5
}
