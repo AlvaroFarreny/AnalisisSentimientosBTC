{
 "cells": [
  {
   "cell_type": "markdown",
   "id": "d9641ef1-59ee-4592-b0bf-515e9f95a9ca",
   "metadata": {
    "tags": []
   },
   "source": [
    "# ACTIVIDAD 2"
   ]
  },
  {
   "cell_type": "markdown",
   "id": "895448e0-56ff-4ca9-9206-0a16e8b950e1",
   "metadata": {
    "tags": []
   },
   "source": [
    "## GRUPO 2 - Carlos Gonzalez Van Liempt y Álvaro Farreny Boixader"
   ]
  },
  {
   "cell_type": "markdown",
   "id": "be877eda-64b5-40d0-b60b-cd1bd0eff25a",
   "metadata": {
    "jp-MarkdownHeadingCollapsed": true,
    "tags": []
   },
   "source": [
    "<h2 style=\"font-size: 19px;color:#6DA0FF;font-family:Georgia, Times, 'Times New Roman', serif;letter-spacing: 3px;font-weight: normal\">Twitter Web Scraping</h2>"
   ]
  },
  {
   "cell_type": "code",
   "execution_count": null,
   "id": "f125a86c-14a4-492c-84cd-038cc928dc77",
   "metadata": {
    "tags": []
   },
   "outputs": [],
   "source": [
    "#pip install tweepy==4.12.0"
   ]
  },
  {
   "cell_type": "code",
   "execution_count": null,
   "id": "e8debd51-469d-4e51-b395-8f4f4a60091e",
   "metadata": {
    "tags": []
   },
   "outputs": [],
   "source": [
    "\"\"\"pip install tweepy==3.10.0\n",
    "pip install tweepy==4.12.0\"\"\""
   ]
  },
  {
   "cell_type": "code",
   "execution_count": null,
   "id": "d29f6009-95d2-4376-b061-20b55a045e87",
   "metadata": {
    "tags": []
   },
   "outputs": [],
   "source": [
    "#try:\n",
    "#    import tweepy\n",
    "#except ModuleNotFoundError:\n",
    "#    !pip install tweepy"
   ]
  },
  {
   "cell_type": "code",
   "execution_count": null,
   "id": "4fec9dbc-72ac-45e8-865b-f937259920c7",
   "metadata": {
    "tags": []
   },
   "outputs": [],
   "source": [
    "#pip install TextBlob"
   ]
  },
  {
   "cell_type": "code",
   "execution_count": 1,
   "id": "5ec23c21-0571-474b-860d-094ba3aee938",
   "metadata": {},
   "outputs": [],
   "source": [
    "import matplotlib.pyplot as plt\n",
    "import pandas as pd\n",
    "from textblob import TextBlob\n",
    "import time\n",
    "import nltk"
   ]
  },
  {
   "cell_type": "markdown",
   "id": "3a0586a8-8c14-40c0-bc80-650eea30290e",
   "metadata": {},
   "source": [
    "BUSQUEDA DE LOS TWEETS QUE CONTENGAN BITCOIN"
   ]
  },
  {
   "cell_type": "code",
   "execution_count": null,
   "id": "7f5d1cd1-b88a-4ef0-8e36-645e68509a44",
   "metadata": {
    "tags": []
   },
   "outputs": [],
   "source": [
    "df = pd.DataFrame(columns=['Autor', 'Contenido', 'Analisis'])\n",
    "\n",
    "client = tweepy.Client(bearer_token=\"AAAAAAAAAAAAAAAAAAAAAIV9iAEAAAAABkMM0c9J7Qe1jgFj%2BbtdW4C9vkw%3DSaUUIEGcbOwfPRgWoDKJ6BP6RAJ7wOzpT7SuEskgByo3EWLB3d\") # Utilizamos el token Bearer para autentificarnos en twitter\n",
    "\n",
    "#INFORMACIÓN SOBRE LOS VALORES QUE SE LE PUEDEN DAR A LA QUERY!!\n",
    "# https://developer.twitter.com/en/docs/twitter-api/tweets/search/api-reference/get-tweets-search-all\n",
    "\n",
    "query = \"Bitcoin -is:retweet lang:en\" # Introducimos con que mensajes queremos que filtre, junto con la condición de que no debe ser un retweet y el idioma debe ser en español\n",
    "response = client.search_recent_tweets(query=query, max_results=50, tweet_fields=[\"lang\"], expansions=[\"author_id\"]) # realizamos la query con un límite de 20 tweets ( se puede modificar )\n",
    "\n",
    "users = {u[\"id\"]: u for u in response.includes[\"users\"]} # Relacionamos el id de usuario con el nombre de usuario para crear una lista de usuarios con la que trabajar\n",
    "\n",
    "for tweet in response.data:  \n",
    "    if users[tweet.author_id]:\n",
    "        # Crear un objeto de TextBlob con el texto del tweet\n",
    "        twt = TextBlob(str(tweet))\n",
    "        user = users[tweet.author_id]\n",
    "        df = df.append({'Autor':user.username,'Contenido':str(tweet), 'Analisis':str(twt.sentiment)},ignore_index=True) # Introducimos los valores en el dataframe\n",
    "#PRINTEAMOS EL DATAFRAME\n",
    "df"
   ]
  },
  {
   "cell_type": "markdown",
   "id": "91b3ba1b-034c-41a0-a306-20402853356e",
   "metadata": {},
   "source": [
    "FUNCIONAMIENTO DE LA LIBRERIA TEXTBLOB"
   ]
  },
  {
   "cell_type": "markdown",
   "id": "47a93d21-fcb6-4a59-aa2e-f0a3fa21bfe1",
   "metadata": {
    "tags": []
   },
   "source": [
    "Sentiment(polarity=0.625, subjectivity=0.6) es el resultado que devuelve el método sentiment de la librería TextBlob cuando se le aplica a un texto determinado.\n",
    "\n",
    "La polaridad es un valor que indica el estado de ánimo o la opinión expresada en un texto, y va de -1 a 1, siendo -1 una opinión muy negativa, 0 una opinión neutral, y 1 una opinión muy positiva. Por otro lado, la subjetividad es un valor que indica el grado de subjetividad o objetividad del texto, y también va de 0 a 1, siendo 0 un texto muy objetivo y 1 un texto muy subjetivo.\n",
    "\n",
    "En el ejemplo Sentiment(polarity=0.625, subjectivity=0.6), se puede observar que la polaridad es 0.625, lo que indica que el texto tiene una opinión positiva, pero no muy fuerte. Por otro lado, la subjetividad"
   ]
  },
  {
   "cell_type": "code",
   "execution_count": null,
   "id": "7c2b92fc-ac4c-4f65-b825-eda1cf814720",
   "metadata": {
    "tags": []
   },
   "outputs": [],
   "source": [
    "# Importar la librería necesaria\n",
    "from textblob import TextBlob\n",
    "\n",
    "# Crear un objeto de TextBlob con el texto del tweet\n",
    "tweet = TextBlob(\"I love Bitcoin! I'm gonna buy right now\")\n",
    "\n",
    "# Mostrar el resultado del análisis de sentimientos\n",
    "print(tweet.sentiment)"
   ]
  },
  {
   "cell_type": "markdown",
   "id": "9fae2e33-9551-4e2e-8ed2-67cc13a4736c",
   "metadata": {},
   "source": [
    "### ANALISIS DE LOS SENTIMIENTOS OBTENIDOS ANTERIORMENTE "
   ]
  },
  {
   "cell_type": "code",
   "execution_count": null,
   "id": "6497d241-35b4-4222-ac7b-ed9ae69f0324",
   "metadata": {},
   "outputs": [],
   "source": [
    "# Inicializar variables para contar la cantidad de tweets por sentimiento\n",
    "pos_tweets = 0\n",
    "neg_tweets = 0\n",
    "neu_tweets = 0\n",
    "\n",
    "for tweet in response.data:  \n",
    "    if users[tweet.author_id]:\n",
    "        analysis = TextBlob(str(tweet))\n",
    "        # Incrementar la cantidad de tweets con sentimiento positivo, negativo o neutral\n",
    "        if analysis.sentiment.polarity > 0:\n",
    "            pos_tweets += 1\n",
    "        elif analysis.sentiment.polarity < 0:\n",
    "            neg_tweets += 1\n",
    "        else:\n",
    "            neu_tweets += 1\n",
    "\n",
    "# Crear un gráfico de barras con los resultados obtenidos\n",
    "plt.bar([\"Positivos\", \"Negativos\", \"Neutrales\"], [pos_tweets, neg_tweets, neu_tweets])\n",
    "plt.title(\"Sentimientos en tweets sobre Bitcoin\")\n",
    "plt.show()"
   ]
  },
  {
   "cell_type": "markdown",
   "id": "bc59e1cd-b3fc-4e07-b2cc-750e8fe062ef",
   "metadata": {},
   "source": [
    "OTRA FORMA DE ANALISIS"
   ]
  },
  {
   "cell_type": "code",
   "execution_count": null,
   "id": "41da86f6-24a5-406a-a38d-90b7c5fe6b59",
   "metadata": {},
   "outputs": [],
   "source": [
    "# Inicializar una lista para almacenar los sentimientos en el tiempo\n",
    "sentiments = []"
   ]
  },
  {
   "cell_type": "code",
   "execution_count": null,
   "id": "f3a95fa2-c237-4283-8a39-d4f9caf4ef25",
   "metadata": {},
   "outputs": [],
   "source": [
    "for tweet in response.data:  \n",
    "    if users[tweet.author_id]:\n",
    "        analysis = TextBlob(str(tweet))\n",
    "        # Añadir el sentimiento del tweet a la lista\n",
    "        sentiments.append(analysis.sentiment.polarity)\n",
    "        \n",
    "# Crear un gráfico de líneas con los resultados obtenidos\n",
    "plt.plot(sentiments)\n",
    "plt.title(\"Sentimientos en tweets sobre Bitcoin\")\n",
    "plt.show()"
   ]
  },
  {
   "cell_type": "markdown",
   "id": "3ec32311-312e-4fe5-ac0a-fae9971b8343",
   "metadata": {
    "tags": []
   },
   "source": [
    "<h2 style=\"font-size: 19px;color:#6DA0FF;font-family:Georgia, Times, 'Times New Roman', serif;letter-spacing: 3px;font-weight: normal\">CSV Tweet Scraping</h2>"
   ]
  },
  {
   "cell_type": "markdown",
   "id": "0f0100c2-2982-4bff-b3b2-f8f3647fa137",
   "metadata": {},
   "source": [
    "##### Utilizamos Pandas para cargar los datos del archivo .csv que hemos obtenido de kaggle\n",
    "https://www.kaggle.com/datasets/alaix14/bitcoin-tweets-20160101-to-20190329"
   ]
  },
  {
   "cell_type": "code",
   "execution_count": 64,
   "id": "01b5e614-b542-44b3-85f1-9715a11aa424",
   "metadata": {},
   "outputs": [],
   "source": [
    "from nltk.sentiment.vader import SentimentIntensityAnalyzer"
   ]
  },
  {
   "cell_type": "code",
   "execution_count": 65,
   "id": "8ff23b94-cf0b-49de-9956-88ee3328545d",
   "metadata": {},
   "outputs": [
    {
     "data": {
      "text/html": [
       "<div>\n",
       "<style scoped>\n",
       "    .dataframe tbody tr th:only-of-type {\n",
       "        vertical-align: middle;\n",
       "    }\n",
       "\n",
       "    .dataframe tbody tr th {\n",
       "        vertical-align: top;\n",
       "    }\n",
       "\n",
       "    .dataframe thead th {\n",
       "        text-align: right;\n",
       "    }\n",
       "</style>\n",
       "<table border=\"1\" class=\"dataframe\">\n",
       "  <thead>\n",
       "    <tr style=\"text-align: right;\">\n",
       "      <th></th>\n",
       "      <th>timestamp</th>\n",
       "      <th>text</th>\n",
       "    </tr>\n",
       "  </thead>\n",
       "  <tbody>\n",
       "    <tr>\n",
       "      <th>0</th>\n",
       "      <td>2019-05-27 11:49:14+00</td>\n",
       "      <td>È appena uscito un nuovo video! LES CRYPTOMONN...</td>\n",
       "    </tr>\n",
       "    <tr>\n",
       "      <th>1</th>\n",
       "      <td>2019-05-27 11:49:18+00</td>\n",
       "      <td>Cardano: Digitize Currencies; EOS https://t.co...</td>\n",
       "    </tr>\n",
       "    <tr>\n",
       "      <th>2</th>\n",
       "      <td>2019-05-27 11:49:06+00</td>\n",
       "      <td>Another Test tweet that wasn't caught in the s...</td>\n",
       "    </tr>\n",
       "    <tr>\n",
       "      <th>3</th>\n",
       "      <td>2019-05-27 11:49:22+00</td>\n",
       "      <td>Current Crypto Prices! \\n\\nBTC: $8721.99 USD\\n...</td>\n",
       "    </tr>\n",
       "    <tr>\n",
       "      <th>4</th>\n",
       "      <td>2019-05-27 11:49:23+00</td>\n",
       "      <td>Spiv (Nosar Baz): BITCOIN Is An Asset &amp;amp; NO...</td>\n",
       "    </tr>\n",
       "  </tbody>\n",
       "</table>\n",
       "</div>"
      ],
      "text/plain": [
       "                timestamp                                               text\n",
       "0  2019-05-27 11:49:14+00  È appena uscito un nuovo video! LES CRYPTOMONN...\n",
       "1  2019-05-27 11:49:18+00  Cardano: Digitize Currencies; EOS https://t.co...\n",
       "2  2019-05-27 11:49:06+00  Another Test tweet that wasn't caught in the s...\n",
       "3  2019-05-27 11:49:22+00  Current Crypto Prices! \\n\\nBTC: $8721.99 USD\\n...\n",
       "4  2019-05-27 11:49:23+00  Spiv (Nosar Baz): BITCOIN Is An Asset &amp; NO..."
      ]
     },
     "execution_count": 65,
     "metadata": {},
     "output_type": "execute_result"
    }
   ],
   "source": [
    "df = pd.read_csv('./data/tweetsKaggle.csv',sep=';', nrows=100000, usecols=['timestamp','text'])\n",
    "df.head()"
   ]
  },
  {
   "cell_type": "code",
   "execution_count": 66,
   "id": "b3a46b0c-0804-4857-92b7-4142606d1ab1",
   "metadata": {},
   "outputs": [
    {
     "data": {
      "text/html": [
       "<div>\n",
       "<style scoped>\n",
       "    .dataframe tbody tr th:only-of-type {\n",
       "        vertical-align: middle;\n",
       "    }\n",
       "\n",
       "    .dataframe tbody tr th {\n",
       "        vertical-align: top;\n",
       "    }\n",
       "\n",
       "    .dataframe thead th {\n",
       "        text-align: right;\n",
       "    }\n",
       "</style>\n",
       "<table border=\"1\" class=\"dataframe\">\n",
       "  <thead>\n",
       "    <tr style=\"text-align: right;\">\n",
       "      <th></th>\n",
       "      <th>timestamp</th>\n",
       "      <th>text</th>\n",
       "      <th>Date</th>\n",
       "      <th>Time</th>\n",
       "    </tr>\n",
       "  </thead>\n",
       "  <tbody>\n",
       "    <tr>\n",
       "      <th>0</th>\n",
       "      <td>2019-05-27 11:49:14+00</td>\n",
       "      <td>È appena uscito un nuovo video! LES CRYPTOMONN...</td>\n",
       "      <td>2019-05-27</td>\n",
       "      <td>11:49:14+00</td>\n",
       "    </tr>\n",
       "    <tr>\n",
       "      <th>1</th>\n",
       "      <td>2019-05-27 11:49:18+00</td>\n",
       "      <td>Cardano: Digitize Currencies; EOS https://t.co...</td>\n",
       "      <td>2019-05-27</td>\n",
       "      <td>11:49:18+00</td>\n",
       "    </tr>\n",
       "    <tr>\n",
       "      <th>2</th>\n",
       "      <td>2019-05-27 11:49:06+00</td>\n",
       "      <td>Another Test tweet that wasn't caught in the s...</td>\n",
       "      <td>2019-05-27</td>\n",
       "      <td>11:49:06+00</td>\n",
       "    </tr>\n",
       "    <tr>\n",
       "      <th>3</th>\n",
       "      <td>2019-05-27 11:49:22+00</td>\n",
       "      <td>Current Crypto Prices! \\n\\nBTC: $8721.99 USD\\n...</td>\n",
       "      <td>2019-05-27</td>\n",
       "      <td>11:49:22+00</td>\n",
       "    </tr>\n",
       "    <tr>\n",
       "      <th>4</th>\n",
       "      <td>2019-05-27 11:49:23+00</td>\n",
       "      <td>Spiv (Nosar Baz): BITCOIN Is An Asset &amp;amp; NO...</td>\n",
       "      <td>2019-05-27</td>\n",
       "      <td>11:49:23+00</td>\n",
       "    </tr>\n",
       "  </tbody>\n",
       "</table>\n",
       "</div>"
      ],
      "text/plain": [
       "                timestamp                                               text  \\\n",
       "0  2019-05-27 11:49:14+00  È appena uscito un nuovo video! LES CRYPTOMONN...   \n",
       "1  2019-05-27 11:49:18+00  Cardano: Digitize Currencies; EOS https://t.co...   \n",
       "2  2019-05-27 11:49:06+00  Another Test tweet that wasn't caught in the s...   \n",
       "3  2019-05-27 11:49:22+00  Current Crypto Prices! \\n\\nBTC: $8721.99 USD\\n...   \n",
       "4  2019-05-27 11:49:23+00  Spiv (Nosar Baz): BITCOIN Is An Asset &amp; NO...   \n",
       "\n",
       "         Date         Time  \n",
       "0  2019-05-27  11:49:14+00  \n",
       "1  2019-05-27  11:49:18+00  \n",
       "2  2019-05-27  11:49:06+00  \n",
       "3  2019-05-27  11:49:22+00  \n",
       "4  2019-05-27  11:49:23+00  "
      ]
     },
     "execution_count": 66,
     "metadata": {},
     "output_type": "execute_result"
    }
   ],
   "source": [
    "df[['Date','Time']] = df.timestamp.str.split(expand=True)\n",
    "df.head()"
   ]
  },
  {
   "cell_type": "code",
   "execution_count": 67,
   "id": "a6038e68-3241-417a-b969-45a26d38cd46",
   "metadata": {},
   "outputs": [
    {
     "data": {
      "text/html": [
       "<div>\n",
       "<style scoped>\n",
       "    .dataframe tbody tr th:only-of-type {\n",
       "        vertical-align: middle;\n",
       "    }\n",
       "\n",
       "    .dataframe tbody tr th {\n",
       "        vertical-align: top;\n",
       "    }\n",
       "\n",
       "    .dataframe thead th {\n",
       "        text-align: right;\n",
       "    }\n",
       "</style>\n",
       "<table border=\"1\" class=\"dataframe\">\n",
       "  <thead>\n",
       "    <tr style=\"text-align: right;\">\n",
       "      <th></th>\n",
       "      <th>Date</th>\n",
       "      <th>text</th>\n",
       "    </tr>\n",
       "  </thead>\n",
       "  <tbody>\n",
       "    <tr>\n",
       "      <th>0</th>\n",
       "      <td>2019-05-27</td>\n",
       "      <td>È appena uscito un nuovo video! LES CRYPTOMONN...</td>\n",
       "    </tr>\n",
       "    <tr>\n",
       "      <th>1</th>\n",
       "      <td>2019-05-27</td>\n",
       "      <td>Cardano: Digitize Currencies; EOS https://t.co...</td>\n",
       "    </tr>\n",
       "    <tr>\n",
       "      <th>2</th>\n",
       "      <td>2019-05-27</td>\n",
       "      <td>Another Test tweet that wasn't caught in the s...</td>\n",
       "    </tr>\n",
       "    <tr>\n",
       "      <th>3</th>\n",
       "      <td>2019-05-27</td>\n",
       "      <td>Current Crypto Prices! \\n\\nBTC: $8721.99 USD\\n...</td>\n",
       "    </tr>\n",
       "    <tr>\n",
       "      <th>4</th>\n",
       "      <td>2019-05-27</td>\n",
       "      <td>Spiv (Nosar Baz): BITCOIN Is An Asset &amp;amp; NO...</td>\n",
       "    </tr>\n",
       "  </tbody>\n",
       "</table>\n",
       "</div>"
      ],
      "text/plain": [
       "         Date                                               text\n",
       "0  2019-05-27  È appena uscito un nuovo video! LES CRYPTOMONN...\n",
       "1  2019-05-27  Cardano: Digitize Currencies; EOS https://t.co...\n",
       "2  2019-05-27  Another Test tweet that wasn't caught in the s...\n",
       "3  2019-05-27  Current Crypto Prices! \\n\\nBTC: $8721.99 USD\\n...\n",
       "4  2019-05-27  Spiv (Nosar Baz): BITCOIN Is An Asset &amp; NO..."
      ]
     },
     "execution_count": 67,
     "metadata": {},
     "output_type": "execute_result"
    }
   ],
   "source": [
    "df=df[['Date','text']]\n",
    "df.head()"
   ]
  },
  {
   "cell_type": "code",
   "execution_count": 68,
   "id": "2186be0f-83f5-40c6-9903-977ac9e69b19",
   "metadata": {},
   "outputs": [
    {
     "data": {
      "text/html": [
       "<div>\n",
       "<style scoped>\n",
       "    .dataframe tbody tr th:only-of-type {\n",
       "        vertical-align: middle;\n",
       "    }\n",
       "\n",
       "    .dataframe tbody tr th {\n",
       "        vertical-align: top;\n",
       "    }\n",
       "\n",
       "    .dataframe thead th {\n",
       "        text-align: right;\n",
       "    }\n",
       "</style>\n",
       "<table border=\"1\" class=\"dataframe\">\n",
       "  <thead>\n",
       "    <tr style=\"text-align: right;\">\n",
       "      <th></th>\n",
       "      <th>Date</th>\n",
       "      <th>text</th>\n",
       "    </tr>\n",
       "  </thead>\n",
       "  <tbody>\n",
       "    <tr>\n",
       "      <th>0</th>\n",
       "      <td>2019-05-27</td>\n",
       "      <td>È appena uscito un nuovo video! LES CRYPTOMONN...</td>\n",
       "    </tr>\n",
       "    <tr>\n",
       "      <th>1</th>\n",
       "      <td>2019-05-27</td>\n",
       "      <td>Cardano: Digitize Currencies; EOS https://t.co...</td>\n",
       "    </tr>\n",
       "    <tr>\n",
       "      <th>2</th>\n",
       "      <td>2019-05-27</td>\n",
       "      <td>Another Test tweet that wasn't caught in the s...</td>\n",
       "    </tr>\n",
       "    <tr>\n",
       "      <th>3</th>\n",
       "      <td>2019-05-27</td>\n",
       "      <td>Current Crypto Prices! \\n\\nBTC: $8721.99 USD\\n...</td>\n",
       "    </tr>\n",
       "    <tr>\n",
       "      <th>4</th>\n",
       "      <td>2019-05-27</td>\n",
       "      <td>Spiv (Nosar Baz): BITCOIN Is An Asset &amp;amp; NO...</td>\n",
       "    </tr>\n",
       "  </tbody>\n",
       "</table>\n",
       "</div>"
      ],
      "text/plain": [
       "         Date                                               text\n",
       "0  2019-05-27  È appena uscito un nuovo video! LES CRYPTOMONN...\n",
       "1  2019-05-27  Cardano: Digitize Currencies; EOS https://t.co...\n",
       "2  2019-05-27  Another Test tweet that wasn't caught in the s...\n",
       "3  2019-05-27  Current Crypto Prices! \\n\\nBTC: $8721.99 USD\\n...\n",
       "4  2019-05-27  Spiv (Nosar Baz): BITCOIN Is An Asset &amp; NO..."
      ]
     },
     "execution_count": 68,
     "metadata": {},
     "output_type": "execute_result"
    }
   ],
   "source": [
    "df = df.dropna()\n",
    "df.head()"
   ]
  },
  {
   "cell_type": "code",
   "execution_count": 69,
   "id": "b2feb5c7-ad19-40b1-b1ae-b06e52f094fe",
   "metadata": {},
   "outputs": [],
   "source": [
    "#nltk.download(\"vader_lexicon\")\n",
    "analyzer = SentimentIntensityAnalyzer()\n",
    "sentimientos = []\n",
    "for texto in df['text']:\n",
    "    sentiment = analyzer.polarity_scores(texto)\n",
    "    analisis = sentiment['compound']\n",
    "    sentimientos.append(analisis)\n",
    "    \n",
    "df['sentimientos'] = sentimientos"
   ]
  },
  {
   "cell_type": "code",
   "execution_count": 70,
   "id": "e53437b9-afdd-4a6b-98df-66e2c1041fb2",
   "metadata": {},
   "outputs": [
    {
     "data": {
      "text/plain": [
       "0        0.0000\n",
       "1       -0.1027\n",
       "2        0.0000\n",
       "3        0.0000\n",
       "4        0.3612\n",
       "          ...  \n",
       "99995   -0.7717\n",
       "99996    0.0000\n",
       "99997    0.4767\n",
       "99998    0.9042\n",
       "99999    0.3818\n",
       "Name: sentimientos, Length: 100000, dtype: float64"
      ]
     },
     "execution_count": 70,
     "metadata": {},
     "output_type": "execute_result"
    }
   ],
   "source": [
    "df['sentimientos']"
   ]
  },
  {
   "cell_type": "code",
   "execution_count": 71,
   "id": "285036c3-8716-416f-a953-ca337c387d17",
   "metadata": {},
   "outputs": [
    {
     "data": {
      "text/html": [
       "<div>\n",
       "<style scoped>\n",
       "    .dataframe tbody tr th:only-of-type {\n",
       "        vertical-align: middle;\n",
       "    }\n",
       "\n",
       "    .dataframe tbody tr th {\n",
       "        vertical-align: top;\n",
       "    }\n",
       "\n",
       "    .dataframe thead th {\n",
       "        text-align: right;\n",
       "    }\n",
       "</style>\n",
       "<table border=\"1\" class=\"dataframe\">\n",
       "  <thead>\n",
       "    <tr style=\"text-align: right;\">\n",
       "      <th></th>\n",
       "      <th>Date</th>\n",
       "      <th>text</th>\n",
       "      <th>sentimientos</th>\n",
       "    </tr>\n",
       "  </thead>\n",
       "  <tbody>\n",
       "    <tr>\n",
       "      <th>0</th>\n",
       "      <td>2019-05-27</td>\n",
       "      <td>È appena uscito un nuovo video! LES CRYPTOMONN...</td>\n",
       "      <td>0.0000</td>\n",
       "    </tr>\n",
       "    <tr>\n",
       "      <th>1</th>\n",
       "      <td>2019-05-27</td>\n",
       "      <td>Cardano: Digitize Currencies; EOS https://t.co...</td>\n",
       "      <td>-0.1027</td>\n",
       "    </tr>\n",
       "    <tr>\n",
       "      <th>2</th>\n",
       "      <td>2019-05-27</td>\n",
       "      <td>Another Test tweet that wasn't caught in the s...</td>\n",
       "      <td>0.0000</td>\n",
       "    </tr>\n",
       "    <tr>\n",
       "      <th>3</th>\n",
       "      <td>2019-05-27</td>\n",
       "      <td>Current Crypto Prices! \\n\\nBTC: $8721.99 USD\\n...</td>\n",
       "      <td>0.0000</td>\n",
       "    </tr>\n",
       "    <tr>\n",
       "      <th>4</th>\n",
       "      <td>2019-05-27</td>\n",
       "      <td>Spiv (Nosar Baz): BITCOIN Is An Asset &amp;amp; NO...</td>\n",
       "      <td>0.3612</td>\n",
       "    </tr>\n",
       "  </tbody>\n",
       "</table>\n",
       "</div>"
      ],
      "text/plain": [
       "         Date                                               text  sentimientos\n",
       "0  2019-05-27  È appena uscito un nuovo video! LES CRYPTOMONN...        0.0000\n",
       "1  2019-05-27  Cardano: Digitize Currencies; EOS https://t.co...       -0.1027\n",
       "2  2019-05-27  Another Test tweet that wasn't caught in the s...        0.0000\n",
       "3  2019-05-27  Current Crypto Prices! \\n\\nBTC: $8721.99 USD\\n...        0.0000\n",
       "4  2019-05-27  Spiv (Nosar Baz): BITCOIN Is An Asset &amp; NO...        0.3612"
      ]
     },
     "execution_count": 71,
     "metadata": {},
     "output_type": "execute_result"
    }
   ],
   "source": [
    "df.head()"
   ]
  },
  {
   "cell_type": "code",
   "execution_count": 72,
   "id": "9d5f0606-c6da-4b3c-bcb3-ba076834e2f6",
   "metadata": {},
   "outputs": [
    {
     "data": {
      "text/html": [
       "<div>\n",
       "<style scoped>\n",
       "    .dataframe tbody tr th:only-of-type {\n",
       "        vertical-align: middle;\n",
       "    }\n",
       "\n",
       "    .dataframe tbody tr th {\n",
       "        vertical-align: top;\n",
       "    }\n",
       "\n",
       "    .dataframe thead th {\n",
       "        text-align: right;\n",
       "    }\n",
       "</style>\n",
       "<table border=\"1\" class=\"dataframe\">\n",
       "  <thead>\n",
       "    <tr style=\"text-align: right;\">\n",
       "      <th></th>\n",
       "      <th>Date</th>\n",
       "      <th>sentimientos</th>\n",
       "    </tr>\n",
       "  </thead>\n",
       "  <tbody>\n",
       "    <tr>\n",
       "      <th>0</th>\n",
       "      <td>2019-05-27</td>\n",
       "      <td>0.0000</td>\n",
       "    </tr>\n",
       "    <tr>\n",
       "      <th>1</th>\n",
       "      <td>2019-05-27</td>\n",
       "      <td>-0.1027</td>\n",
       "    </tr>\n",
       "    <tr>\n",
       "      <th>2</th>\n",
       "      <td>2019-05-27</td>\n",
       "      <td>0.0000</td>\n",
       "    </tr>\n",
       "    <tr>\n",
       "      <th>3</th>\n",
       "      <td>2019-05-27</td>\n",
       "      <td>0.0000</td>\n",
       "    </tr>\n",
       "    <tr>\n",
       "      <th>4</th>\n",
       "      <td>2019-05-27</td>\n",
       "      <td>0.3612</td>\n",
       "    </tr>\n",
       "  </tbody>\n",
       "</table>\n",
       "</div>"
      ],
      "text/plain": [
       "         Date  sentimientos\n",
       "0  2019-05-27        0.0000\n",
       "1  2019-05-27       -0.1027\n",
       "2  2019-05-27        0.0000\n",
       "3  2019-05-27        0.0000\n",
       "4  2019-05-27        0.3612"
      ]
     },
     "execution_count": 72,
     "metadata": {},
     "output_type": "execute_result"
    }
   ],
   "source": [
    "df = df.drop('text', axis=1)\n",
    "df.head()"
   ]
  },
  {
   "cell_type": "code",
   "execution_count": 73,
   "id": "c648f9ec-72f9-411a-8f6c-92b82b9231fc",
   "metadata": {},
   "outputs": [],
   "source": [
    "df = df.groupby(by='Date').sum()"
   ]
  },
  {
   "cell_type": "code",
   "execution_count": 74,
   "id": "0582ed6f-be16-40df-afbc-71b5b73aa934",
   "metadata": {},
   "outputs": [
    {
     "data": {
      "text/plain": [
       "<bound method NDFrame.head of             sentimientos\n",
       "Date                    \n",
       "2009-01-11        0.0000\n",
       "2012-08-02        0.2942\n",
       "2012-09-20        0.0000\n",
       "2012-11-17        0.6166\n",
       "2013-08-16       -0.0516\n",
       "...                  ...\n",
       "2019-05-23        1.2681\n",
       "2019-05-24        0.4847\n",
       "2019-05-25        6.3587\n",
       "2019-05-26       22.3275\n",
       "2019-05-27      251.9286\n",
       "\n",
       "[558 rows x 1 columns]>"
      ]
     },
     "execution_count": 74,
     "metadata": {},
     "output_type": "execute_result"
    }
   ],
   "source": [
    "df.head"
   ]
  },
  {
   "cell_type": "code",
   "execution_count": 75,
   "id": "ed204ede-b670-4d95-b57b-cdff9476e7dc",
   "metadata": {},
   "outputs": [],
   "source": [
    " ## porque me lo pone en una columna todo!!! 200 rows × 1 columns"
   ]
  },
  {
   "cell_type": "code",
   "execution_count": 85,
   "id": "d73b0404-9dee-412a-88b6-809c891bf78a",
   "metadata": {},
   "outputs": [
    {
     "data": {
      "text/plain": [
       "<AxesSubplot:title={'center':'Título del gráfico'}, xlabel='Fecha', ylabel='Suma de valores'>"
      ]
     },
     "execution_count": 85,
     "metadata": {},
     "output_type": "execute_result"
    },
    {
     "data": {
      "image/png": "[encoded data removed]",
      "text/plain": [
       "<Figure size 720x432 with 1 Axes>"
      ]
     },
     "metadata": {
      "needs_background": "light"
     },
     "output_type": "display_data"
    }
   ],
   "source": [
    "df2 = df.clip(upper=15)\n",
    "df2.plot(kind='line', title='Título del gráfico', xlabel='Fecha', ylabel='Suma de valores', figsize=(10,6))"
   ]
  },
  {
   "cell_type": "code",
   "execution_count": 86,
   "id": "150e3514-d310-485d-90da-40decec48721",
   "metadata": {},
   "outputs": [
    {
     "data": {
      "text/plain": [
       "<AxesSubplot:title={'center':'Título del gráfico'}, xlabel='Fecha', ylabel='Suma de valores'>"
      ]
     },
     "execution_count": 86,
     "metadata": {},
     "output_type": "execute_result"
    },
    {
     "data": {
      "image/png": "[encoded data removed]",
      "text/plain": [
       "<Figure size 720x432 with 1 Axes>"
      ]
     },
     "metadata": {
      "needs_background": "light"
     },
     "output_type": "display_data"
    }
   ],
   "source": [
    "df2.plot(kind='bar', title='Título del gráfico', xlabel='Fecha', ylabel='Suma de valores', figsize=(10,6))"
   ]
  },
  {
   "cell_type": "code",
   "execution_count": null,
   "id": "ec84555f-185e-4412-a33a-8b164775bfda",
   "metadata": {},
   "outputs": [],
   "source": []
  }
 ],
 "metadata": {
  "kernelspec": {
   "display_name": "Python 3 (ipykernel)",
   "language": "python",
   "name": "python3"
  },
  "language_info": {
   "codemirror_mode": {
    "name": "ipython",
    "version": 3
   },
   "file_extension": ".py",
   "mimetype": "text/x-python",
   "name": "python",
   "nbconvert_exporter": "python",
   "pygments_lexer": "ipython3",
   "version": "3.9.12"
  }
 },
 "nbformat": 4,
 "nbformat_minor": 5
}
