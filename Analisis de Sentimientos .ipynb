{
 "cells": [
  {
   "cell_type": "code",
   "execution_count": 1,
   "id": "4726139e-49ed-495d-ac5a-15cba59ec410",
   "metadata": {},
   "outputs": [
    {
     "ename": "ImportError",
     "evalue": "cannot import name 'StreamListener' from 'tweepy.streaming' (C:\\Users\\farre\\anaconda3\\lib\\site-packages\\tweepy\\streaming.py)",
     "output_type": "error",
     "traceback": [
      "\u001b[1;31m---------------------------------------------------------------------------\u001b[0m",
      "\u001b[1;31mImportError\u001b[0m                               Traceback (most recent call last)",
      "\u001b[1;32m<ipython-input-1-b949ad85f96c>\u001b[0m in \u001b[0;36m<module>\u001b[1;34m\u001b[0m\n\u001b[0;32m      1\u001b[0m \u001b[1;32mfrom\u001b[0m \u001b[0mtweepy\u001b[0m \u001b[1;32mimport\u001b[0m \u001b[0mStream\u001b[0m\u001b[1;33m\u001b[0m\u001b[1;33m\u001b[0m\u001b[0m\n\u001b[0;32m      2\u001b[0m \u001b[1;32mfrom\u001b[0m \u001b[0mtweepy\u001b[0m \u001b[1;32mimport\u001b[0m \u001b[0mOAuthHandler\u001b[0m\u001b[1;33m\u001b[0m\u001b[1;33m\u001b[0m\u001b[0m\n\u001b[1;32m----> 3\u001b[1;33m \u001b[1;32mfrom\u001b[0m \u001b[0mtweepy\u001b[0m\u001b[1;33m.\u001b[0m\u001b[0mstreaming\u001b[0m \u001b[1;32mimport\u001b[0m \u001b[0mStreamListener\u001b[0m\u001b[1;33m\u001b[0m\u001b[1;33m\u001b[0m\u001b[0m\n\u001b[0m\u001b[0;32m      4\u001b[0m \u001b[1;33m\u001b[0m\u001b[0m\n\u001b[0;32m      5\u001b[0m \u001b[1;31m#consumer key, consumer secret, access token, access secret.\u001b[0m\u001b[1;33m\u001b[0m\u001b[1;33m\u001b[0m\u001b[1;33m\u001b[0m\u001b[0m\n",
      "\u001b[1;31mImportError\u001b[0m: cannot import name 'StreamListener' from 'tweepy.streaming' (C:\\Users\\farre\\anaconda3\\lib\\site-packages\\tweepy\\streaming.py)"
     ]
    }
   ],
   "source": [
    "from tweepy import Stream\n",
    "from tweepy import OAuthHandler\n",
    "from tweepy.streaming import StreamListener\n",
    " \n",
    "#consumer key, consumer secret, access token, access secret.\n",
    "ckey=\"F2pIrutjymGr9vZuqTeViAymw\"\n",
    "csecret=\"QFLTXwFJZNuR6i00IswAZIgaKsKl5AtmPufoSaRnR57ER2yVxS\"\n",
    "atoken=\"879408865997201408-QJDeVNKYBsTdp97caK0qFV454YYwRLp\"\n",
    "asecret=\"gLNfeVRjT7LrDaWWSgCX0ZRu6TeTPBquTxlYKQ4hUzAka\"\n",
    " \n",
    "class listener(StreamListener):\n",
    " \n",
    "  def on_data(self, data):\n",
    "    print(data)\n",
    "    return(True)\n",
    " \n",
    "  def on_error(self, status):\n",
    "    print (status)\n",
    " \n",
    "auth = OAuthHandler(ckey, csecret)\n",
    "auth.set_access_token(atoken, asecret)\n",
    " \n",
    "twitterStream = Stream(auth, listener())\n",
    "twitterStream.filter(track=[\"python\"])"
   ]
  },
  {
   "cell_type": "code",
   "execution_count": null,
   "id": "518bf244-ce21-409e-af97-a1183f97246c",
   "metadata": {},
   "outputs": [],
   "source": []
  }
 ],
 "metadata": {
  "kernelspec": {
   "display_name": "Python 3",
   "language": "python",
   "name": "python3"
  },
  "language_info": {
   "codemirror_mode": {
    "name": "ipython",
    "version": 3
   },
   "file_extension": ".py",
   "mimetype": "text/x-python",
   "name": "python",
   "nbconvert_exporter": "python",
   "pygments_lexer": "ipython3",
   "version": "3.8.8"
  }
 },
 "nbformat": 4,
 "nbformat_minor": 5
}
