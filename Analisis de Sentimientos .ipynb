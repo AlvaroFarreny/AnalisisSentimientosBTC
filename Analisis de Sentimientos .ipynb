{
 "cells": [
  {
   "cell_type": "code",
   "execution_count": 6,
   "id": "5976563f-56f9-478b-8211-e44a4567d0ae",
   "metadata": {},
   "outputs": [
    {
     "name": "stdout",
     "output_type": "stream",
     "text": [
      "Requirement already satisfied: tweepy==4.12.0 in c:\\users\\farre\\anaconda3\\lib\\site-packages (4.12.0)\n",
      "Requirement already satisfied: requests<3,>=2.27.0 in c:\\users\\farre\\anaconda3\\lib\\site-packages (from tweepy==4.12.0) (2.28.1)\n",
      "Requirement already satisfied: requests-oauthlib<2,>=1.2.0 in c:\\users\\farre\\anaconda3\\lib\\site-packages (from tweepy==4.12.0) (1.3.1)\n",
      "Requirement already satisfied: oauthlib<4,>=3.2.0 in c:\\users\\farre\\anaconda3\\lib\\site-packages (from tweepy==4.12.0) (3.2.2)\n",
      "Requirement already satisfied: charset-normalizer<3,>=2 in c:\\users\\farre\\anaconda3\\lib\\site-packages (from requests<3,>=2.27.0->tweepy==4.12.0) (2.0.8)\n",
      "Requirement already satisfied: certifi>=2017.4.17 in c:\\users\\farre\\anaconda3\\lib\\site-packages (from requests<3,>=2.27.0->tweepy==4.12.0) (2022.9.24)\n",
      "Requirement already satisfied: idna<4,>=2.5 in c:\\users\\farre\\anaconda3\\lib\\site-packages (from requests<3,>=2.27.0->tweepy==4.12.0) (2.10)\n",
      "Requirement already satisfied: urllib3<1.27,>=1.21.1 in c:\\users\\farre\\anaconda3\\lib\\site-packages (from requests<3,>=2.27.0->tweepy==4.12.0) (1.26.4)\n",
      "Note: you may need to restart the kernel to use updated packages.\n"
     ]
    }
   ],
   "source": [
    "pip install tweepy==4.12.0"
   ]
  },
  {
   "cell_type": "code",
   "execution_count": 8,
   "id": "4726139e-49ed-495d-ac5a-15cba59ec410",
   "metadata": {},
   "outputs": [],
   "source": [
    "import tweepy\n",
    "from tweepy import Stream\n",
    "from tweepy import OAuthHandler"
   ]
  },
  {
   "cell_type": "code",
   "execution_count": null,
   "id": "518bf244-ce21-409e-af97-a1183f97246c",
   "metadata": {},
   "outputs": [],
   "source": []
  }
 ],
 "metadata": {
  "kernelspec": {
   "display_name": "Python 3",
   "language": "python",
   "name": "python3"
  },
  "language_info": {
   "codemirror_mode": {
    "name": "ipython",
    "version": 3
   },
   "file_extension": ".py",
   "mimetype": "text/x-python",
   "name": "python",
   "nbconvert_exporter": "python",
   "pygments_lexer": "ipython3",
   "version": "3.8.8"
  }
 },
 "nbformat": 4,
 "nbformat_minor": 5
}
